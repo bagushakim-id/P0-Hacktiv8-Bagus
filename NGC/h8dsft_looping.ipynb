{
  "nbformat": 4,
  "nbformat_minor": 0,
  "metadata": {
    "colab": {
      "provenance": []
    },
    "kernelspec": {
      "name": "python3",
      "display_name": "Python 3"
    },
    "language_info": {
      "name": "python"
    }
  },
  "cells": [
    {
      "cell_type": "markdown",
      "source": [
        "# Assignment Instruction\n",
        "\n",
        "* Loop dan print semua angka genap dari list angka diatas dengan urutan yang sama.\n",
        "* Jangan mencetak angka apapun yang muncul setelah angka `918` berdasarkan posisi angka tersebut pada list diatas.\n",
        "* Tampilkan pesan `Done` setelah looping berakhir.\n"
      ],
      "metadata": {
        "id": "lLvskHfHc3_d"
      }
    },
    {
      "cell_type": "code",
      "execution_count": null,
      "metadata": {
        "colab": {
          "base_uri": "https://localhost:8080/"
        },
        "id": "kRlFMSTwcb3i",
        "outputId": "ba2e1f7f-9cef-4d47-b93d-1de3f227ad6c"
      },
      "outputs": [
        {
          "output_type": "stream",
          "name": "stdout",
          "text": [
            "[951, 402, 984, 651, 360, 69, 408, 319, 601, 485, 980, 507, 725, 547, 544, 615, 83, 165, 141, 501, 263, 617, 865, 575, 219, 390, 984, 592, 236, 105, 942, 941, 386, 462, 47, 418, 907, 344, 236, 375, 823, 566, 597, 978, 328, 615, 953, 345, 399, 162, 758, 219, 918, 237, 412, 566, 826, 248, 866, 950, 626, 949] "
          ]
        }
      ],
      "source": [
        "  numbers = [\n",
        "  951, 402, 984, 651, 360, 69, 408, 319, 601, 485, 980, 507, 725, 547, 544, 615, 83, 165, 141, 501, 263, 617, 865, 575, 219, 390, 984, 592, 236, 105, 942, 941, 386, 462, 47, 418, 907, 344, 236, 375, 823, 566, 597, 978, 328, 615, 953, 345, 399, 162, 758, 219, 918, 237, 412, 566, 826, 248, 866, 950, 626, 949\n",
        "  ]"
      ]
    },
    {
      "cell_type": "code",
      "source": [
        "for i in numbers:\n",
        "  if i % 2 == 0:\n",
        "    print(i, end = \" \")\n",
        "  elif i == 918:\n",
        "    pass\n",
        "\n",
        "print(\"Done\")"
      ],
      "metadata": {
        "colab": {
          "base_uri": "https://localhost:8080/"
        },
        "id": "5kGUnAiuciKF",
        "outputId": "2bad74c7-10e1-4607-969d-04f97207c1ea"
      },
      "execution_count": null,
      "outputs": [
        {
          "output_type": "stream",
          "name": "stdout",
          "text": [
            "402 984 360 408 980 544 390 984 592 236 942 386 462 418 344 236 566 978 328 162 758 918 412 566 826 248 866 950 626 Done\n"
          ]
        }
      ]
    }
  ]
}