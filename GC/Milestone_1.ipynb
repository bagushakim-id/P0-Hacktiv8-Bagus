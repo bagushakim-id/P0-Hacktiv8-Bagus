{
  "nbformat": 4,
  "nbformat_minor": 0,
  "metadata": {
    "colab": {
      "provenance": [],
      "toc_visible": true
    },
    "kernelspec": {
      "name": "python3",
      "display_name": "Python 3"
    },
    "language_info": {
      "name": "python"
    }
  },
  "cells": [
    {
      "cell_type": "markdown",
      "source": [
        "# SQL Queries"
      ],
      "metadata": {
        "id": "Z2zx3_aELVy3"
      }
    },
    {
      "cell_type": "code",
      "source": [
        "'''\n",
        "# -- min and max date, dataset ini dari tahun 2020 hingga 2023\n",
        "\n",
        "select max(date), min(date) \n",
        "from bigquery-public-data.covid19_jhu_csse_eu.summary;\n",
        "\n",
        "'''"
      ],
      "metadata": {
        "id": "KO_iiOeNxPfA",
        "colab": {
          "base_uri": "https://localhost:8080/",
          "height": 53
        },
        "outputId": "352e43e6-372c-4fcd-d8a8-5a53a8c5a868"
      },
      "execution_count": 137,
      "outputs": [
        {
          "output_type": "execute_result",
          "data": {
            "text/plain": [
              "'\\n# -- min and max date, dataset ini dari tahun 2020 hingga 2023\\n\\nselect max(date), min(date) \\nfrom bigquery-public-data.covid19_jhu_csse_eu.summary;\\n\\n'"
            ],
            "application/vnd.google.colaboratory.intrinsic+json": {
              "type": "string"
            }
          },
          "metadata": {},
          "execution_count": 137
        }
      ]
    },
    {
      "cell_type": "code",
      "source": [
        "'''\n",
        "\n",
        "# --most top 10 confirmed by country\n",
        "select country_region, sum(confirmed) confirmed\n",
        "from bigquery-public-data.covid19_jhu_csse_eu.summary\n",
        "group by country_region\n",
        "order by confirmed desc\n",
        "limit 10;\n",
        "\n",
        "# --most top 10 deaths by country\n",
        "select country_region, sum(deaths) deaths\n",
        "from bigquery-public-data.covid19_jhu_csse_eu.summary\n",
        "group by country_region\n",
        "order by deaths desc\n",
        "limit 10;\n",
        "\n",
        "# --deaths average for each country\n",
        "select country_region, sum(confirmed) confirmed, sum(deaths) deaths, avg(deaths)\n",
        "from bigquery-public-data.covid19_jhu_csse_eu.summary a\n",
        "group by a.country_region\n",
        "order by deaths desc;\n",
        "\n",
        "'''"
      ],
      "metadata": {
        "id": "xX59ViPfxVtd",
        "colab": {
          "base_uri": "https://localhost:8080/",
          "height": 105
        },
        "outputId": "daaa0f0e-4c37-460d-e92c-55d44e3b87f2"
      },
      "execution_count": 138,
      "outputs": [
        {
          "output_type": "execute_result",
          "data": {
            "text/plain": [
              "'\\n\\n# --most top 10 confirmed by country\\nselect country_region, sum(confirmed) confirmed\\nfrom bigquery-public-data.covid19_jhu_csse_eu.summary\\ngroup by country_region\\norder by confirmed desc\\nlimit 10;\\n\\n# --most top 10 deaths by country\\nselect country_region, sum(deaths) deaths\\nfrom bigquery-public-data.covid19_jhu_csse_eu.summary\\ngroup by country_region\\norder by deaths desc\\nlimit 10;\\n\\n# --deaths average for each country\\nselect country_region, sum(confirmed) confirmed, sum(deaths) deaths, avg(deaths)\\nfrom bigquery-public-data.covid19_jhu_csse_eu.summary a\\ngroup by a.country_region\\norder by deaths desc;\\n\\n'"
            ],
            "application/vnd.google.colaboratory.intrinsic+json": {
              "type": "string"
            }
          },
          "metadata": {},
          "execution_count": 138
        }
      ]
    },
    {
      "cell_type": "code",
      "source": [
        "'''\n",
        "\n",
        "# -- negara dengan kasus terkonfirmasi tertinggi yang tercatat di tahun 2020: France\n",
        "select country_region, max(confirmed) highest_confirmed\n",
        "from bigquery-public-data.covid19_jhu_csse_eu.summary a\n",
        "where a.date between '2020-1-1' and '2020-12-31'\n",
        "group by country_region\n",
        "order by highest_confirmed desc; \n",
        "\n",
        "# -- province dengan kasus terkonfirmasi tertinggi di tahun 2020: Null\n",
        "select a.province_state, a.date, a.country_region\n",
        "from bigquery-public-data.covid19_jhu_csse_eu.summary a\n",
        "where confirmed = 2616902;\n",
        "\n",
        "# -- negara dengan kasus kematian tertinggi yang tercatat di tahun 2020: France\n",
        "select country_region, max(deaths) highest_deaths\n",
        "from bigquery-public-data.covid19_jhu_csse_eu.summary a\n",
        "where a.date between '2020-1-1' and '2020-12-31'\n",
        "group by country_region\n",
        "order by highest_deaths desc;\n",
        "\n",
        "# -- province dengan kematian tertinggi di tahun 2020: null\n",
        "select a.province_state, a.date, a.country_region\n",
        "from bigquery-public-data.covid19_jhu_csse_eu.summary a\n",
        "where deaths = 64267;\n",
        "\n",
        "'''"
      ],
      "metadata": {
        "id": "hVawHASJ5lje",
        "colab": {
          "base_uri": "https://localhost:8080/",
          "height": 140
        },
        "outputId": "380a911b-d36f-43d4-d26c-daa1a004e3d5"
      },
      "execution_count": 139,
      "outputs": [
        {
          "output_type": "execute_result",
          "data": {
            "text/plain": [
              "\"\\n\\n# -- negara dengan kasus terkonfirmasi tertinggi yang tercatat di tahun 2020: France\\nselect country_region, max(confirmed) highest_confirmed\\nfrom bigquery-public-data.covid19_jhu_csse_eu.summary a\\nwhere a.date between '2020-1-1' and '2020-12-31'\\ngroup by country_region\\norder by highest_confirmed desc; \\n\\n# -- province dengan kasus terkonfirmasi tertinggi di tahun 2020: Null\\nselect a.province_state, a.date, a.country_region\\nfrom bigquery-public-data.covid19_jhu_csse_eu.summary a\\nwhere confirmed = 2616902;\\n\\n# -- negara dengan kasus kematian tertinggi yang tercatat di tahun 2020: France\\nselect country_region, max(deaths) highest_deaths\\nfrom bigquery-public-data.covid19_jhu_csse_eu.summary a\\nwhere a.date between '2020-1-1' and '2020-12-31'\\ngroup by country_region\\norder by highest_deaths desc;\\n\\n# -- province dengan kematian tertinggi di tahun 2020: null\\nselect a.province_state, a.date, a.country_region\\nfrom bigquery-public-data.covid19_jhu_csse_eu.summary a\\nwhere deaths = 64267;\\n\\n\""
            ],
            "application/vnd.google.colaboratory.intrinsic+json": {
              "type": "string"
            }
          },
          "metadata": {},
          "execution_count": 139
        }
      ]
    },
    {
      "cell_type": "code",
      "source": [
        "'''\n",
        "\n",
        "\n",
        "# -- negara dengan kasus terkonfirmasi tertinggi yang tercatat di tahun 2021: UK\n",
        "select extract(YEAR from a.date) year, a.country_region, max(a.confirmed) highest_confirmed\n",
        "from bigquery-public-data.covid19_jhu_csse_eu.summary a\n",
        "where a.date between '2021-1-1' and '2021-12-31'\n",
        "group by year, a.country_region\n",
        "order by highest_confirmed desc;\n",
        "\n",
        "# -- province dengan kasus terkonfirmasi tertinggi di tahun 2021: England\n",
        "select date, province_state, country_region\n",
        "from bigquery-public-data.covid19_jhu_csse_eu.summary\n",
        "where confirmed = 10988851;\n",
        "\n",
        "# -- negara dengan kasus kematian tertinggi yang tercatat di tahun 2021: Malaysia\n",
        "select extract(YEAR from a.date) year, a.country_region, max(a.deaths) highest_deaths\n",
        "from bigquery-public-data.covid19_jhu_csse_eu.summary a\n",
        "where a.date between '2021-1-1' and '2021-12-31'\n",
        "group by year, a.country_region\n",
        "order by highest_deaths desc;\n",
        "\n",
        "# -- province dengan kematian tertinggi yang tercatat di tahun 2021: Selangor\n",
        "select date, province_state, country_region\n",
        "from bigquery-public-data.covid19_jhu_csse_eu.summary\n",
        "where deaths = 624641;\n",
        "\n",
        "'''"
      ],
      "metadata": {
        "id": "nS11H-8f7Jc9",
        "colab": {
          "base_uri": "https://localhost:8080/",
          "height": 140
        },
        "outputId": "6d34e976-493e-444a-c452-861863c4c5dd"
      },
      "execution_count": 141,
      "outputs": [
        {
          "output_type": "execute_result",
          "data": {
            "text/plain": [
              "\"\\n\\n\\n# -- negara dengan kasus terkonfirmasi tertinggi yang tercatat di tahun 2021: UK\\nselect extract(YEAR from a.date) year, a.country_region, max(a.confirmed) highest_confirmed\\nfrom bigquery-public-data.covid19_jhu_csse_eu.summary a\\nwhere a.date between '2021-1-1' and '2021-12-31'\\ngroup by year, a.country_region\\norder by highest_confirmed desc;\\n\\n# -- province dengan kasus terkonfirmasi tertinggi di tahun 2021: England\\nselect date, province_state, country_region\\nfrom bigquery-public-data.covid19_jhu_csse_eu.summary\\nwhere confirmed = 10988851;\\n\\n# -- negara dengan kasus kematian tertinggi yang tercatat di tahun 2021: Malaysia\\nselect extract(YEAR from a.date) year, a.country_region, max(a.deaths) highest_deaths\\nfrom bigquery-public-data.covid19_jhu_csse_eu.summary a\\nwhere a.date between '2021-1-1' and '2021-12-31'\\ngroup by year, a.country_region\\norder by highest_deaths desc;\\n\\n# -- province dengan kematian tertinggi yang tercatat di tahun 2021: Selangor\\nselect date, province_state, country_region\\nfrom bigquery-public-data.covid19_jhu_csse_eu.summary\\nwhere deaths = 624641;\\n\\n\""
            ],
            "application/vnd.google.colaboratory.intrinsic+json": {
              "type": "string"
            }
          },
          "metadata": {},
          "execution_count": 141
        }
      ]
    },
    {
      "cell_type": "code",
      "source": [
        "'''\n",
        "\n",
        "# -- negara dengan kasus terkonfirmasi tertinggi yang tercatat di tahun 2022: France\n",
        "select extract(YEAR from a.date) year, a.country_region, max(a.confirmed) highest_confirmed\n",
        "from bigquery-public-data.covid19_jhu_csse_eu.summary a\n",
        "where a.date between '2022-1-1' and '2022-12-31'\n",
        "group by year, a.country_region\n",
        "order by highest_confirmed desc;\n",
        "\n",
        "# -- province dengan kasus terkonfirmasi tertinggi di tahun 2022: Null\n",
        "select date, province_state, country_region\n",
        "from bigquery-public-data.covid19_jhu_csse_eu.summary\n",
        "where confirmed = 38266999;\n",
        "\n",
        "# -- negara dengan kasus kematian tertinggi yang tercatat di tahun 2022: UK\n",
        "select extract(YEAR from a.date) year, a.country_region, max(a.deaths) highest_deaths\n",
        "from bigquery-public-data.covid19_jhu_csse_eu.summary a\n",
        "where a.date between '2022-1-1' and '2022-12-31'\n",
        "group by year, a.country_region\n",
        "order by highest_deaths desc;\n",
        "\n",
        "# -- province dengan kematian tertinggi yang tercatat di tahun 2022: England\n",
        "select date, province_state, country_region, deaths\n",
        "from bigquery-public-data.covid19_jhu_csse_eu.summary\n",
        "where deaths = 180642;\n",
        "\n",
        "'''"
      ],
      "metadata": {
        "id": "ZiVtqm7b7v6F",
        "colab": {
          "base_uri": "https://localhost:8080/",
          "height": 140
        },
        "outputId": "7d7bc22f-3446-476d-9658-34c5e9a83cc5"
      },
      "execution_count": 142,
      "outputs": [
        {
          "output_type": "execute_result",
          "data": {
            "text/plain": [
              "\"\\n\\n# -- negara dengan kasus terkonfirmasi tertinggi yang tercatat di tahun 2022: France\\nselect extract(YEAR from a.date) year, a.country_region, max(a.confirmed) highest_confirmed\\nfrom bigquery-public-data.covid19_jhu_csse_eu.summary a\\nwhere a.date between '2022-1-1' and '2022-12-31'\\ngroup by year, a.country_region\\norder by highest_confirmed desc;\\n\\n# -- province dengan kasus terkonfirmasi tertinggi di tahun 2022: Null\\nselect date, province_state, country_region\\nfrom bigquery-public-data.covid19_jhu_csse_eu.summary\\nwhere confirmed = 38266999;\\n\\n# -- negara dengan kasus kematian tertinggi yang tercatat di tahun 2022: UK\\nselect extract(YEAR from a.date) year, a.country_region, max(a.deaths) highest_deaths\\nfrom bigquery-public-data.covid19_jhu_csse_eu.summary a\\nwhere a.date between '2022-1-1' and '2022-12-31'\\ngroup by year, a.country_region\\norder by highest_deaths desc;\\n\\n# -- province dengan kematian tertinggi yang tercatat di tahun 2022: England\\nselect date, province_state, country_region, deaths\\nfrom bigquery-public-data.covid19_jhu_csse_eu.summary\\nwhere deaths = 180642;\\n\\n\""
            ],
            "application/vnd.google.colaboratory.intrinsic+json": {
              "type": "string"
            }
          },
          "metadata": {},
          "execution_count": 142
        }
      ]
    },
    {
      "cell_type": "code",
      "source": [
        "'''\n",
        "\n",
        "# Bagaimana dengan Indonesia?\n",
        "select extract(YEAR from a.date) year, \n",
        "        country_region, \n",
        "        sum(confirmed) as total_confirmed, \n",
        "        max(confirmed) as highest_confirmed,\n",
        "        sum(deaths) as total_deaths,\n",
        "        max(deaths) as highest_deaths\n",
        "from bigquery-public-data.covid19_jhu_csse_eu.summary\n",
        "where country_region = \"Indonesia\"\n",
        "group by year, country_region\n",
        "order by year asc;\n",
        "\n",
        "\n",
        "berdasarkan queri tersebut diketahui bahwa kasus covid yang terkonfirmasi di indonesia selalu meningkat di dari tahun 2020 hingga 2022, \n",
        "kemudian menurun di tahun 2023\n",
        "'''"
      ],
      "metadata": {
        "id": "p-nHgwtyL2o-",
        "colab": {
          "base_uri": "https://localhost:8080/",
          "height": 105
        },
        "outputId": "542f0aa5-6a9c-493d-b92f-3326b0945052"
      },
      "execution_count": 140,
      "outputs": [
        {
          "output_type": "execute_result",
          "data": {
            "text/plain": [
              "'\\n\\n# Bagaimana dengan Indonesia?\\nselect extract(YEAR from a.date) year, \\n        country_region, \\n        sum(confirmed) as total_confirmed, \\n        max(confirmed) as highest_confirmed,\\n        sum(deaths) as total_deaths,\\n        max(deaths) as highest_deaths\\nfrom bigquery-public-data.covid19_jhu_csse_eu.summary\\nwhere country_region = \"Indonesia\"\\ngroup by year, country_region\\norder by year asc;\\n\\n\\nberdasarkan queri tersebut diketahui bahwa kasus covid yang terkonfirmasi di indonesia selalu meningkat di dari tahun 2020 hingga 2022, \\nkemudian menurun di tahun 2023\\n'"
            ],
            "application/vnd.google.colaboratory.intrinsic+json": {
              "type": "string"
            }
          },
          "metadata": {},
          "execution_count": 140
        }
      ]
    },
    {
      "cell_type": "markdown",
      "source": [
        "# Notebook Title"
      ],
      "metadata": {
        "id": "_oDxnPEV9bAf"
      }
    },
    {
      "cell_type": "markdown",
      "source": [
        "\n",
        "\n",
        "*   Nama: Bagus Tirta Aji Hakim\n",
        "*   Batch Number: 018 RMT\n"
      ],
      "metadata": {
        "id": "a4pGeui_9vI3"
      }
    },
    {
      "cell_type": "markdown",
      "source": [
        "# Description"
      ],
      "metadata": {
        "id": "l887AwhB9ekW"
      }
    },
    {
      "cell_type": "markdown",
      "source": [
        "## Objective\n",
        "\n"
      ],
      "metadata": {
        "id": "iMnBjZg_9mKe"
      }
    },
    {
      "cell_type": "markdown",
      "source": [
        "Covid telah merebak di segala penjuru dunia, salah satu negara di duni yang terdampak adalah United States. Negara adidaya tersebut tentunya juga memiliki jumlah penduduk yang tidak sedikit. Oleh karena itu analisa saat ini akan berfokus melihat secara langsung bagaimana perkembangan covid di sebuah negara tersebut pada tiap tahun dan bulannya."
      ],
      "metadata": {
        "id": "kwj0YfhPDkoY"
      }
    },
    {
      "cell_type": "markdown",
      "source": [
        "Pada file berikut `h8dsft_P0GC1_BagusTirtaAjiHakim.csv.csv` terdapat beberapa variabel, yaitu:\n",
        "\n",
        "\n",
        "Header | Definition\n",
        "---|---\n",
        "`province_state` | Nama provinsi atau negara bagian\n",
        "`country_region` | Nama wilayah negara\n",
        "`date` | Tanggal tercatatnya covid di daerah tersebut\n",
        "`latitude` | garis bujur dari negara atau provinsi\n",
        "`longitude` | garis lintang dari negara atau provinsi\n",
        "`location_geom` | titik objek atau elemen yang ada dalam ruang geografis\n",
        "`confirmed` | jumlah pasien covid yang tercatat pada hari itu\n",
        "`deaths` | jumlah pasien covid yang tercatat meninggal pada hari itu\n",
        "`recovered` | jumlah pasien covid yang tercatat sembuh pada hari itu\n",
        "`active` | jumlah sisa pasien covid yang tercatat pada hari itu\n",
        "`fips` | -\n",
        "`admin2` | nama Admin\n",
        "`combined_key` | Gabungan dari nama county, state, dan country"
      ],
      "metadata": {
        "id": "-ZTAfC7T6lnw"
      }
    },
    {
      "cell_type": "markdown",
      "source": [
        "## Problem Statement"
      ],
      "metadata": {
        "id": "VXVTer1B9oDY"
      }
    },
    {
      "cell_type": "markdown",
      "source": [
        "\n",
        "\n",
        "*   Negara bagian dengan kasus covid terkonfirmasi yang tertinggi\n",
        "*   Negara bagian dengan kasus kematian covid yang tertinggi\n",
        "* Perekembangan kasus covid yang terkonfirmasi pada negara tersebut setiap bulannya di tahun 2020\n",
        "* Perekembangan kasus kematian pasien covid pada negara tersebut setiap bulannya di tahun 2020\n",
        "\n"
      ],
      "metadata": {
        "id": "yyYOXzfd9mlP"
      }
    },
    {
      "cell_type": "markdown",
      "source": [
        "# Working Area"
      ],
      "metadata": {
        "id": "2LDbgdga9rD4"
      }
    },
    {
      "cell_type": "markdown",
      "source": [
        "## Import Pustaka"
      ],
      "metadata": {
        "id": "teb04Nvif51t"
      }
    },
    {
      "cell_type": "code",
      "source": [
        "import pandas as pd\n",
        "%matplotlib inline"
      ],
      "metadata": {
        "id": "myn7IsgmywOf"
      },
      "execution_count": 89,
      "outputs": []
    },
    {
      "cell_type": "markdown",
      "source": [
        "## Data Loading"
      ],
      "metadata": {
        "id": "uWGhrVznf9x8"
      }
    },
    {
      "cell_type": "code",
      "source": [
        "df = pd.read_csv(\"/content/drive/MyDrive/bq-results-20230205-121643-1675599517874/h8dsft_P0GC1_BagusTirtaAjiHakim.csv\")"
      ],
      "metadata": {
        "id": "K4DmnObhyuXH"
      },
      "execution_count": 50,
      "outputs": []
    },
    {
      "cell_type": "code",
      "source": [
        "df.head(5)"
      ],
      "metadata": {
        "colab": {
          "base_uri": "https://localhost:8080/",
          "height": 357
        },
        "id": "sS_DKxF5y6En",
        "outputId": "31f7c129-1703-45ce-ff05-a7b325c1f0ea"
      },
      "execution_count": 51,
      "outputs": [
        {
          "output_type": "execute_result",
          "data": {
            "text/plain": [
              "  province_state country_region        date   latitude  longitude  \\\n",
              "0      Minnesota             US  2021-12-30  45.152606 -95.005864   \n",
              "1      Minnesota             US  2021-12-30  48.245397 -93.783528   \n",
              "2      Minnesota             US  2021-12-30  47.325571 -95.809215   \n",
              "3      Minnesota             US  2021-12-30  43.674297 -94.550999   \n",
              "4      Minnesota             US  2021-12-30  44.823677 -94.272870   \n",
              "\n",
              "                     location_geom  confirmed  deaths  recovered  active  \\\n",
              "0   POINT(-95.00586446 45.1526059)    10530.0   118.0        NaN     NaN   \n",
              "1  POINT(-93.78352843 48.24539665)     1996.0    29.0        NaN     NaN   \n",
              "2  POINT(-95.80921485 47.32557075)     1160.0    16.0        NaN     NaN   \n",
              "3  POINT(-94.55099908 43.67429718)     4235.0    52.0        NaN     NaN   \n",
              "4  POINT(-94.27287017 44.82367677)     7909.0    92.0        NaN     NaN   \n",
              "\n",
              "      fips       admin2                combined_key  \n",
              "0  27067.0    Kandiyohi    Kandiyohi, Minnesota, US  \n",
              "1  27071.0  Koochiching  Koochiching, Minnesota, US  \n",
              "2  27087.0     Mahnomen     Mahnomen, Minnesota, US  \n",
              "3  27091.0       Martin       Martin, Minnesota, US  \n",
              "4  27085.0       McLeod       McLeod, Minnesota, US  "
            ],
            "text/html": [
              "\n",
              "  <div id=\"df-ed529ef9-ef2a-4a88-b135-e5fa1819c163\">\n",
              "    <div class=\"colab-df-container\">\n",
              "      <div>\n",
              "<style scoped>\n",
              "    .dataframe tbody tr th:only-of-type {\n",
              "        vertical-align: middle;\n",
              "    }\n",
              "\n",
              "    .dataframe tbody tr th {\n",
              "        vertical-align: top;\n",
              "    }\n",
              "\n",
              "    .dataframe thead th {\n",
              "        text-align: right;\n",
              "    }\n",
              "</style>\n",
              "<table border=\"1\" class=\"dataframe\">\n",
              "  <thead>\n",
              "    <tr style=\"text-align: right;\">\n",
              "      <th></th>\n",
              "      <th>province_state</th>\n",
              "      <th>country_region</th>\n",
              "      <th>date</th>\n",
              "      <th>latitude</th>\n",
              "      <th>longitude</th>\n",
              "      <th>location_geom</th>\n",
              "      <th>confirmed</th>\n",
              "      <th>deaths</th>\n",
              "      <th>recovered</th>\n",
              "      <th>active</th>\n",
              "      <th>fips</th>\n",
              "      <th>admin2</th>\n",
              "      <th>combined_key</th>\n",
              "    </tr>\n",
              "  </thead>\n",
              "  <tbody>\n",
              "    <tr>\n",
              "      <th>0</th>\n",
              "      <td>Minnesota</td>\n",
              "      <td>US</td>\n",
              "      <td>2021-12-30</td>\n",
              "      <td>45.152606</td>\n",
              "      <td>-95.005864</td>\n",
              "      <td>POINT(-95.00586446 45.1526059)</td>\n",
              "      <td>10530.0</td>\n",
              "      <td>118.0</td>\n",
              "      <td>NaN</td>\n",
              "      <td>NaN</td>\n",
              "      <td>27067.0</td>\n",
              "      <td>Kandiyohi</td>\n",
              "      <td>Kandiyohi, Minnesota, US</td>\n",
              "    </tr>\n",
              "    <tr>\n",
              "      <th>1</th>\n",
              "      <td>Minnesota</td>\n",
              "      <td>US</td>\n",
              "      <td>2021-12-30</td>\n",
              "      <td>48.245397</td>\n",
              "      <td>-93.783528</td>\n",
              "      <td>POINT(-93.78352843 48.24539665)</td>\n",
              "      <td>1996.0</td>\n",
              "      <td>29.0</td>\n",
              "      <td>NaN</td>\n",
              "      <td>NaN</td>\n",
              "      <td>27071.0</td>\n",
              "      <td>Koochiching</td>\n",
              "      <td>Koochiching, Minnesota, US</td>\n",
              "    </tr>\n",
              "    <tr>\n",
              "      <th>2</th>\n",
              "      <td>Minnesota</td>\n",
              "      <td>US</td>\n",
              "      <td>2021-12-30</td>\n",
              "      <td>47.325571</td>\n",
              "      <td>-95.809215</td>\n",
              "      <td>POINT(-95.80921485 47.32557075)</td>\n",
              "      <td>1160.0</td>\n",
              "      <td>16.0</td>\n",
              "      <td>NaN</td>\n",
              "      <td>NaN</td>\n",
              "      <td>27087.0</td>\n",
              "      <td>Mahnomen</td>\n",
              "      <td>Mahnomen, Minnesota, US</td>\n",
              "    </tr>\n",
              "    <tr>\n",
              "      <th>3</th>\n",
              "      <td>Minnesota</td>\n",
              "      <td>US</td>\n",
              "      <td>2021-12-30</td>\n",
              "      <td>43.674297</td>\n",
              "      <td>-94.550999</td>\n",
              "      <td>POINT(-94.55099908 43.67429718)</td>\n",
              "      <td>4235.0</td>\n",
              "      <td>52.0</td>\n",
              "      <td>NaN</td>\n",
              "      <td>NaN</td>\n",
              "      <td>27091.0</td>\n",
              "      <td>Martin</td>\n",
              "      <td>Martin, Minnesota, US</td>\n",
              "    </tr>\n",
              "    <tr>\n",
              "      <th>4</th>\n",
              "      <td>Minnesota</td>\n",
              "      <td>US</td>\n",
              "      <td>2021-12-30</td>\n",
              "      <td>44.823677</td>\n",
              "      <td>-94.272870</td>\n",
              "      <td>POINT(-94.27287017 44.82367677)</td>\n",
              "      <td>7909.0</td>\n",
              "      <td>92.0</td>\n",
              "      <td>NaN</td>\n",
              "      <td>NaN</td>\n",
              "      <td>27085.0</td>\n",
              "      <td>McLeod</td>\n",
              "      <td>McLeod, Minnesota, US</td>\n",
              "    </tr>\n",
              "  </tbody>\n",
              "</table>\n",
              "</div>\n",
              "      <button class=\"colab-df-convert\" onclick=\"convertToInteractive('df-ed529ef9-ef2a-4a88-b135-e5fa1819c163')\"\n",
              "              title=\"Convert this dataframe to an interactive table.\"\n",
              "              style=\"display:none;\">\n",
              "        \n",
              "  <svg xmlns=\"http://www.w3.org/2000/svg\" height=\"24px\"viewBox=\"0 0 24 24\"\n",
              "       width=\"24px\">\n",
              "    <path d=\"M0 0h24v24H0V0z\" fill=\"none\"/>\n",
              "    <path d=\"M18.56 5.44l.94 2.06.94-2.06 2.06-.94-2.06-.94-.94-2.06-.94 2.06-2.06.94zm-11 1L8.5 8.5l.94-2.06 2.06-.94-2.06-.94L8.5 2.5l-.94 2.06-2.06.94zm10 10l.94 2.06.94-2.06 2.06-.94-2.06-.94-.94-2.06-.94 2.06-2.06.94z\"/><path d=\"M17.41 7.96l-1.37-1.37c-.4-.4-.92-.59-1.43-.59-.52 0-1.04.2-1.43.59L10.3 9.45l-7.72 7.72c-.78.78-.78 2.05 0 2.83L4 21.41c.39.39.9.59 1.41.59.51 0 1.02-.2 1.41-.59l7.78-7.78 2.81-2.81c.8-.78.8-2.07 0-2.86zM5.41 20L4 18.59l7.72-7.72 1.47 1.35L5.41 20z\"/>\n",
              "  </svg>\n",
              "      </button>\n",
              "      \n",
              "  <style>\n",
              "    .colab-df-container {\n",
              "      display:flex;\n",
              "      flex-wrap:wrap;\n",
              "      gap: 12px;\n",
              "    }\n",
              "\n",
              "    .colab-df-convert {\n",
              "      background-color: #E8F0FE;\n",
              "      border: none;\n",
              "      border-radius: 50%;\n",
              "      cursor: pointer;\n",
              "      display: none;\n",
              "      fill: #1967D2;\n",
              "      height: 32px;\n",
              "      padding: 0 0 0 0;\n",
              "      width: 32px;\n",
              "    }\n",
              "\n",
              "    .colab-df-convert:hover {\n",
              "      background-color: #E2EBFA;\n",
              "      box-shadow: 0px 1px 2px rgba(60, 64, 67, 0.3), 0px 1px 3px 1px rgba(60, 64, 67, 0.15);\n",
              "      fill: #174EA6;\n",
              "    }\n",
              "\n",
              "    [theme=dark] .colab-df-convert {\n",
              "      background-color: #3B4455;\n",
              "      fill: #D2E3FC;\n",
              "    }\n",
              "\n",
              "    [theme=dark] .colab-df-convert:hover {\n",
              "      background-color: #434B5C;\n",
              "      box-shadow: 0px 1px 3px 1px rgba(0, 0, 0, 0.15);\n",
              "      filter: drop-shadow(0px 1px 2px rgba(0, 0, 0, 0.3));\n",
              "      fill: #FFFFFF;\n",
              "    }\n",
              "  </style>\n",
              "\n",
              "      <script>\n",
              "        const buttonEl =\n",
              "          document.querySelector('#df-ed529ef9-ef2a-4a88-b135-e5fa1819c163 button.colab-df-convert');\n",
              "        buttonEl.style.display =\n",
              "          google.colab.kernel.accessAllowed ? 'block' : 'none';\n",
              "\n",
              "        async function convertToInteractive(key) {\n",
              "          const element = document.querySelector('#df-ed529ef9-ef2a-4a88-b135-e5fa1819c163');\n",
              "          const dataTable =\n",
              "            await google.colab.kernel.invokeFunction('convertToInteractive',\n",
              "                                                     [key], {});\n",
              "          if (!dataTable) return;\n",
              "\n",
              "          const docLinkHtml = 'Like what you see? Visit the ' +\n",
              "            '<a target=\"_blank\" href=https://colab.research.google.com/notebooks/data_table.ipynb>data table notebook</a>'\n",
              "            + ' to learn more about interactive tables.';\n",
              "          element.innerHTML = '';\n",
              "          dataTable['output_type'] = 'display_data';\n",
              "          await google.colab.output.renderOutput(dataTable, element);\n",
              "          const docLink = document.createElement('div');\n",
              "          docLink.innerHTML = docLinkHtml;\n",
              "          element.appendChild(docLink);\n",
              "        }\n",
              "      </script>\n",
              "    </div>\n",
              "  </div>\n",
              "  "
            ]
          },
          "metadata": {},
          "execution_count": 51
        }
      ]
    },
    {
      "cell_type": "code",
      "source": [
        "df.tail(5)"
      ],
      "metadata": {
        "colab": {
          "base_uri": "https://localhost:8080/",
          "height": 357
        },
        "id": "EOsVxycKy9sn",
        "outputId": "6663884f-e6d4-4fc1-a748-b4f84f8c24e6"
      },
      "execution_count": 52,
      "outputs": [
        {
          "output_type": "execute_result",
          "data": {
            "text/plain": [
              "        province_state country_region        date  latitude  longitude  \\\n",
              "4131547         Bayern        Germany  2020-06-30   48.7904    11.4979   \n",
              "4131548        Beijing          China  2020-06-30   40.1824   116.4142   \n",
              "4131549       Blekinge         Sweden  2020-06-30   56.2784    15.0180   \n",
              "4131550         Boyaca       Colombia  2020-06-30    5.4545   -73.3620   \n",
              "4131551       Casanare       Colombia  2020-06-30    5.7589   -71.5724   \n",
              "\n",
              "                   location_geom  confirmed  deaths  recovered  active  fips  \\\n",
              "4131547   POINT(11.4979 48.7904)    48400.0  2594.0    45100.0   706.0   NaN   \n",
              "4131548  POINT(116.4142 40.1824)      922.0     9.0      587.0   326.0   NaN   \n",
              "4131549    POINT(15.018 56.2784)      444.0    12.0        0.0   432.0   NaN   \n",
              "4131550    POINT(-73.362 5.4545)      359.0    16.0      216.0   127.0   NaN   \n",
              "4131551   POINT(-71.5724 5.7589)       66.0     0.0       45.0    21.0   NaN   \n",
              "\n",
              "        admin2        combined_key  \n",
              "4131547    NaN     Bayern, Germany  \n",
              "4131548    NaN      Beijing, China  \n",
              "4131549    NaN    Blekinge, Sweden  \n",
              "4131550    NaN    Boyaca, Colombia  \n",
              "4131551    NaN  Casanare, Colombia  "
            ],
            "text/html": [
              "\n",
              "  <div id=\"df-38766a20-bf62-4b69-887c-fd11edae4592\">\n",
              "    <div class=\"colab-df-container\">\n",
              "      <div>\n",
              "<style scoped>\n",
              "    .dataframe tbody tr th:only-of-type {\n",
              "        vertical-align: middle;\n",
              "    }\n",
              "\n",
              "    .dataframe tbody tr th {\n",
              "        vertical-align: top;\n",
              "    }\n",
              "\n",
              "    .dataframe thead th {\n",
              "        text-align: right;\n",
              "    }\n",
              "</style>\n",
              "<table border=\"1\" class=\"dataframe\">\n",
              "  <thead>\n",
              "    <tr style=\"text-align: right;\">\n",
              "      <th></th>\n",
              "      <th>province_state</th>\n",
              "      <th>country_region</th>\n",
              "      <th>date</th>\n",
              "      <th>latitude</th>\n",
              "      <th>longitude</th>\n",
              "      <th>location_geom</th>\n",
              "      <th>confirmed</th>\n",
              "      <th>deaths</th>\n",
              "      <th>recovered</th>\n",
              "      <th>active</th>\n",
              "      <th>fips</th>\n",
              "      <th>admin2</th>\n",
              "      <th>combined_key</th>\n",
              "    </tr>\n",
              "  </thead>\n",
              "  <tbody>\n",
              "    <tr>\n",
              "      <th>4131547</th>\n",
              "      <td>Bayern</td>\n",
              "      <td>Germany</td>\n",
              "      <td>2020-06-30</td>\n",
              "      <td>48.7904</td>\n",
              "      <td>11.4979</td>\n",
              "      <td>POINT(11.4979 48.7904)</td>\n",
              "      <td>48400.0</td>\n",
              "      <td>2594.0</td>\n",
              "      <td>45100.0</td>\n",
              "      <td>706.0</td>\n",
              "      <td>NaN</td>\n",
              "      <td>NaN</td>\n",
              "      <td>Bayern, Germany</td>\n",
              "    </tr>\n",
              "    <tr>\n",
              "      <th>4131548</th>\n",
              "      <td>Beijing</td>\n",
              "      <td>China</td>\n",
              "      <td>2020-06-30</td>\n",
              "      <td>40.1824</td>\n",
              "      <td>116.4142</td>\n",
              "      <td>POINT(116.4142 40.1824)</td>\n",
              "      <td>922.0</td>\n",
              "      <td>9.0</td>\n",
              "      <td>587.0</td>\n",
              "      <td>326.0</td>\n",
              "      <td>NaN</td>\n",
              "      <td>NaN</td>\n",
              "      <td>Beijing, China</td>\n",
              "    </tr>\n",
              "    <tr>\n",
              "      <th>4131549</th>\n",
              "      <td>Blekinge</td>\n",
              "      <td>Sweden</td>\n",
              "      <td>2020-06-30</td>\n",
              "      <td>56.2784</td>\n",
              "      <td>15.0180</td>\n",
              "      <td>POINT(15.018 56.2784)</td>\n",
              "      <td>444.0</td>\n",
              "      <td>12.0</td>\n",
              "      <td>0.0</td>\n",
              "      <td>432.0</td>\n",
              "      <td>NaN</td>\n",
              "      <td>NaN</td>\n",
              "      <td>Blekinge, Sweden</td>\n",
              "    </tr>\n",
              "    <tr>\n",
              "      <th>4131550</th>\n",
              "      <td>Boyaca</td>\n",
              "      <td>Colombia</td>\n",
              "      <td>2020-06-30</td>\n",
              "      <td>5.4545</td>\n",
              "      <td>-73.3620</td>\n",
              "      <td>POINT(-73.362 5.4545)</td>\n",
              "      <td>359.0</td>\n",
              "      <td>16.0</td>\n",
              "      <td>216.0</td>\n",
              "      <td>127.0</td>\n",
              "      <td>NaN</td>\n",
              "      <td>NaN</td>\n",
              "      <td>Boyaca, Colombia</td>\n",
              "    </tr>\n",
              "    <tr>\n",
              "      <th>4131551</th>\n",
              "      <td>Casanare</td>\n",
              "      <td>Colombia</td>\n",
              "      <td>2020-06-30</td>\n",
              "      <td>5.7589</td>\n",
              "      <td>-71.5724</td>\n",
              "      <td>POINT(-71.5724 5.7589)</td>\n",
              "      <td>66.0</td>\n",
              "      <td>0.0</td>\n",
              "      <td>45.0</td>\n",
              "      <td>21.0</td>\n",
              "      <td>NaN</td>\n",
              "      <td>NaN</td>\n",
              "      <td>Casanare, Colombia</td>\n",
              "    </tr>\n",
              "  </tbody>\n",
              "</table>\n",
              "</div>\n",
              "      <button class=\"colab-df-convert\" onclick=\"convertToInteractive('df-38766a20-bf62-4b69-887c-fd11edae4592')\"\n",
              "              title=\"Convert this dataframe to an interactive table.\"\n",
              "              style=\"display:none;\">\n",
              "        \n",
              "  <svg xmlns=\"http://www.w3.org/2000/svg\" height=\"24px\"viewBox=\"0 0 24 24\"\n",
              "       width=\"24px\">\n",
              "    <path d=\"M0 0h24v24H0V0z\" fill=\"none\"/>\n",
              "    <path d=\"M18.56 5.44l.94 2.06.94-2.06 2.06-.94-2.06-.94-.94-2.06-.94 2.06-2.06.94zm-11 1L8.5 8.5l.94-2.06 2.06-.94-2.06-.94L8.5 2.5l-.94 2.06-2.06.94zm10 10l.94 2.06.94-2.06 2.06-.94-2.06-.94-.94-2.06-.94 2.06-2.06.94z\"/><path d=\"M17.41 7.96l-1.37-1.37c-.4-.4-.92-.59-1.43-.59-.52 0-1.04.2-1.43.59L10.3 9.45l-7.72 7.72c-.78.78-.78 2.05 0 2.83L4 21.41c.39.39.9.59 1.41.59.51 0 1.02-.2 1.41-.59l7.78-7.78 2.81-2.81c.8-.78.8-2.07 0-2.86zM5.41 20L4 18.59l7.72-7.72 1.47 1.35L5.41 20z\"/>\n",
              "  </svg>\n",
              "      </button>\n",
              "      \n",
              "  <style>\n",
              "    .colab-df-container {\n",
              "      display:flex;\n",
              "      flex-wrap:wrap;\n",
              "      gap: 12px;\n",
              "    }\n",
              "\n",
              "    .colab-df-convert {\n",
              "      background-color: #E8F0FE;\n",
              "      border: none;\n",
              "      border-radius: 50%;\n",
              "      cursor: pointer;\n",
              "      display: none;\n",
              "      fill: #1967D2;\n",
              "      height: 32px;\n",
              "      padding: 0 0 0 0;\n",
              "      width: 32px;\n",
              "    }\n",
              "\n",
              "    .colab-df-convert:hover {\n",
              "      background-color: #E2EBFA;\n",
              "      box-shadow: 0px 1px 2px rgba(60, 64, 67, 0.3), 0px 1px 3px 1px rgba(60, 64, 67, 0.15);\n",
              "      fill: #174EA6;\n",
              "    }\n",
              "\n",
              "    [theme=dark] .colab-df-convert {\n",
              "      background-color: #3B4455;\n",
              "      fill: #D2E3FC;\n",
              "    }\n",
              "\n",
              "    [theme=dark] .colab-df-convert:hover {\n",
              "      background-color: #434B5C;\n",
              "      box-shadow: 0px 1px 3px 1px rgba(0, 0, 0, 0.15);\n",
              "      filter: drop-shadow(0px 1px 2px rgba(0, 0, 0, 0.3));\n",
              "      fill: #FFFFFF;\n",
              "    }\n",
              "  </style>\n",
              "\n",
              "      <script>\n",
              "        const buttonEl =\n",
              "          document.querySelector('#df-38766a20-bf62-4b69-887c-fd11edae4592 button.colab-df-convert');\n",
              "        buttonEl.style.display =\n",
              "          google.colab.kernel.accessAllowed ? 'block' : 'none';\n",
              "\n",
              "        async function convertToInteractive(key) {\n",
              "          const element = document.querySelector('#df-38766a20-bf62-4b69-887c-fd11edae4592');\n",
              "          const dataTable =\n",
              "            await google.colab.kernel.invokeFunction('convertToInteractive',\n",
              "                                                     [key], {});\n",
              "          if (!dataTable) return;\n",
              "\n",
              "          const docLinkHtml = 'Like what you see? Visit the ' +\n",
              "            '<a target=\"_blank\" href=https://colab.research.google.com/notebooks/data_table.ipynb>data table notebook</a>'\n",
              "            + ' to learn more about interactive tables.';\n",
              "          element.innerHTML = '';\n",
              "          dataTable['output_type'] = 'display_data';\n",
              "          await google.colab.output.renderOutput(dataTable, element);\n",
              "          const docLink = document.createElement('div');\n",
              "          docLink.innerHTML = docLinkHtml;\n",
              "          element.appendChild(docLink);\n",
              "        }\n",
              "      </script>\n",
              "    </div>\n",
              "  </div>\n",
              "  "
            ]
          },
          "metadata": {},
          "execution_count": 52
        }
      ]
    },
    {
      "cell_type": "markdown",
      "source": [
        "## Data Cleaning"
      ],
      "metadata": {
        "id": "4REYHKUegAW0"
      }
    },
    {
      "cell_type": "markdown",
      "source": [
        "apa yang perlu diubah tipe datanya:\n",
        "- date\n",
        "- confirmed, deaths, recoverd, active\n",
        "\n",
        "missing values handling\n",
        "- kolom yang  memiliki missing data lebih dari 50% akan di drop\n",
        "\n",
        "apa yang perlu di drop:\n",
        "- fips, admin2, combined_key (tidak dibutuhkan dalam proses analis)\n",
        "- location_geom (sudah diwakilkan oleh latitude dan longtitude)"
      ],
      "metadata": {
        "id": "Vo6lsvRF3jEu"
      }
    },
    {
      "cell_type": "markdown",
      "source": [
        "### Changing Data Types"
      ],
      "metadata": {
        "id": "zrYWteFS_duf"
      }
    },
    {
      "cell_type": "code",
      "source": [
        "df2 = df.copy()"
      ],
      "metadata": {
        "id": "gsYiG8hI2rxm"
      },
      "execution_count": 57,
      "outputs": []
    },
    {
      "cell_type": "code",
      "source": [
        "df.shape"
      ],
      "metadata": {
        "colab": {
          "base_uri": "https://localhost:8080/"
        },
        "id": "dSjcWQXN0iAR",
        "outputId": "b589f5e3-0583-46c9-c717-36007f4aa26a"
      },
      "execution_count": 58,
      "outputs": [
        {
          "output_type": "execute_result",
          "data": {
            "text/plain": [
              "(4131552, 13)"
            ]
          },
          "metadata": {},
          "execution_count": 58
        }
      ]
    },
    {
      "cell_type": "code",
      "source": [
        "df.isna().sum()"
      ],
      "metadata": {
        "colab": {
          "base_uri": "https://localhost:8080/"
        },
        "id": "LBFQygrx0c9K",
        "outputId": "54f78126-2403-4998-9dc4-7d5058c9e4e2"
      },
      "execution_count": 59,
      "outputs": [
        {
          "output_type": "execute_result",
          "data": {
            "text/plain": [
              "province_state     185984\n",
              "country_region          1\n",
              "date                    0\n",
              "latitude            92260\n",
              "longitude           92260\n",
              "location_geom       92260\n",
              "confirmed              19\n",
              "deaths                442\n",
              "recovered         2695961\n",
              "active            2704040\n",
              "fips               739904\n",
              "admin2             734953\n",
              "combined_key         7618\n",
              "dtype: int64"
            ]
          },
          "metadata": {},
          "execution_count": 59
        }
      ]
    },
    {
      "cell_type": "code",
      "source": [
        "missing_on_percent = pd.DataFrame((df.isna().sum()/len(df)) * 100)\n",
        "\n",
        "missing_on_percent.sort_values(by=0, ascending=False)"
      ],
      "metadata": {
        "colab": {
          "base_uri": "https://localhost:8080/",
          "height": 457
        },
        "id": "HJdWsD9Z1s5O",
        "outputId": "ccdd6594-e04d-4bed-cc85-4dc0bbf84116"
      },
      "execution_count": 60,
      "outputs": [
        {
          "output_type": "execute_result",
          "data": {
            "text/plain": [
              "                        0\n",
              "active          65.448529\n",
              "recovered       65.252985\n",
              "fips            17.908621\n",
              "admin2          17.788787\n",
              "province_state   4.501553\n",
              "latitude         2.233059\n",
              "longitude        2.233059\n",
              "location_geom    2.233059\n",
              "combined_key     0.184386\n",
              "deaths           0.010698\n",
              "confirmed        0.000460\n",
              "country_region   0.000024\n",
              "date             0.000000"
            ],
            "text/html": [
              "\n",
              "  <div id=\"df-a7e44832-bc85-4f51-9dc6-bd64ba9243b9\">\n",
              "    <div class=\"colab-df-container\">\n",
              "      <div>\n",
              "<style scoped>\n",
              "    .dataframe tbody tr th:only-of-type {\n",
              "        vertical-align: middle;\n",
              "    }\n",
              "\n",
              "    .dataframe tbody tr th {\n",
              "        vertical-align: top;\n",
              "    }\n",
              "\n",
              "    .dataframe thead th {\n",
              "        text-align: right;\n",
              "    }\n",
              "</style>\n",
              "<table border=\"1\" class=\"dataframe\">\n",
              "  <thead>\n",
              "    <tr style=\"text-align: right;\">\n",
              "      <th></th>\n",
              "      <th>0</th>\n",
              "    </tr>\n",
              "  </thead>\n",
              "  <tbody>\n",
              "    <tr>\n",
              "      <th>active</th>\n",
              "      <td>65.448529</td>\n",
              "    </tr>\n",
              "    <tr>\n",
              "      <th>recovered</th>\n",
              "      <td>65.252985</td>\n",
              "    </tr>\n",
              "    <tr>\n",
              "      <th>fips</th>\n",
              "      <td>17.908621</td>\n",
              "    </tr>\n",
              "    <tr>\n",
              "      <th>admin2</th>\n",
              "      <td>17.788787</td>\n",
              "    </tr>\n",
              "    <tr>\n",
              "      <th>province_state</th>\n",
              "      <td>4.501553</td>\n",
              "    </tr>\n",
              "    <tr>\n",
              "      <th>latitude</th>\n",
              "      <td>2.233059</td>\n",
              "    </tr>\n",
              "    <tr>\n",
              "      <th>longitude</th>\n",
              "      <td>2.233059</td>\n",
              "    </tr>\n",
              "    <tr>\n",
              "      <th>location_geom</th>\n",
              "      <td>2.233059</td>\n",
              "    </tr>\n",
              "    <tr>\n",
              "      <th>combined_key</th>\n",
              "      <td>0.184386</td>\n",
              "    </tr>\n",
              "    <tr>\n",
              "      <th>deaths</th>\n",
              "      <td>0.010698</td>\n",
              "    </tr>\n",
              "    <tr>\n",
              "      <th>confirmed</th>\n",
              "      <td>0.000460</td>\n",
              "    </tr>\n",
              "    <tr>\n",
              "      <th>country_region</th>\n",
              "      <td>0.000024</td>\n",
              "    </tr>\n",
              "    <tr>\n",
              "      <th>date</th>\n",
              "      <td>0.000000</td>\n",
              "    </tr>\n",
              "  </tbody>\n",
              "</table>\n",
              "</div>\n",
              "      <button class=\"colab-df-convert\" onclick=\"convertToInteractive('df-a7e44832-bc85-4f51-9dc6-bd64ba9243b9')\"\n",
              "              title=\"Convert this dataframe to an interactive table.\"\n",
              "              style=\"display:none;\">\n",
              "        \n",
              "  <svg xmlns=\"http://www.w3.org/2000/svg\" height=\"24px\"viewBox=\"0 0 24 24\"\n",
              "       width=\"24px\">\n",
              "    <path d=\"M0 0h24v24H0V0z\" fill=\"none\"/>\n",
              "    <path d=\"M18.56 5.44l.94 2.06.94-2.06 2.06-.94-2.06-.94-.94-2.06-.94 2.06-2.06.94zm-11 1L8.5 8.5l.94-2.06 2.06-.94-2.06-.94L8.5 2.5l-.94 2.06-2.06.94zm10 10l.94 2.06.94-2.06 2.06-.94-2.06-.94-.94-2.06-.94 2.06-2.06.94z\"/><path d=\"M17.41 7.96l-1.37-1.37c-.4-.4-.92-.59-1.43-.59-.52 0-1.04.2-1.43.59L10.3 9.45l-7.72 7.72c-.78.78-.78 2.05 0 2.83L4 21.41c.39.39.9.59 1.41.59.51 0 1.02-.2 1.41-.59l7.78-7.78 2.81-2.81c.8-.78.8-2.07 0-2.86zM5.41 20L4 18.59l7.72-7.72 1.47 1.35L5.41 20z\"/>\n",
              "  </svg>\n",
              "      </button>\n",
              "      \n",
              "  <style>\n",
              "    .colab-df-container {\n",
              "      display:flex;\n",
              "      flex-wrap:wrap;\n",
              "      gap: 12px;\n",
              "    }\n",
              "\n",
              "    .colab-df-convert {\n",
              "      background-color: #E8F0FE;\n",
              "      border: none;\n",
              "      border-radius: 50%;\n",
              "      cursor: pointer;\n",
              "      display: none;\n",
              "      fill: #1967D2;\n",
              "      height: 32px;\n",
              "      padding: 0 0 0 0;\n",
              "      width: 32px;\n",
              "    }\n",
              "\n",
              "    .colab-df-convert:hover {\n",
              "      background-color: #E2EBFA;\n",
              "      box-shadow: 0px 1px 2px rgba(60, 64, 67, 0.3), 0px 1px 3px 1px rgba(60, 64, 67, 0.15);\n",
              "      fill: #174EA6;\n",
              "    }\n",
              "\n",
              "    [theme=dark] .colab-df-convert {\n",
              "      background-color: #3B4455;\n",
              "      fill: #D2E3FC;\n",
              "    }\n",
              "\n",
              "    [theme=dark] .colab-df-convert:hover {\n",
              "      background-color: #434B5C;\n",
              "      box-shadow: 0px 1px 3px 1px rgba(0, 0, 0, 0.15);\n",
              "      filter: drop-shadow(0px 1px 2px rgba(0, 0, 0, 0.3));\n",
              "      fill: #FFFFFF;\n",
              "    }\n",
              "  </style>\n",
              "\n",
              "      <script>\n",
              "        const buttonEl =\n",
              "          document.querySelector('#df-a7e44832-bc85-4f51-9dc6-bd64ba9243b9 button.colab-df-convert');\n",
              "        buttonEl.style.display =\n",
              "          google.colab.kernel.accessAllowed ? 'block' : 'none';\n",
              "\n",
              "        async function convertToInteractive(key) {\n",
              "          const element = document.querySelector('#df-a7e44832-bc85-4f51-9dc6-bd64ba9243b9');\n",
              "          const dataTable =\n",
              "            await google.colab.kernel.invokeFunction('convertToInteractive',\n",
              "                                                     [key], {});\n",
              "          if (!dataTable) return;\n",
              "\n",
              "          const docLinkHtml = 'Like what you see? Visit the ' +\n",
              "            '<a target=\"_blank\" href=https://colab.research.google.com/notebooks/data_table.ipynb>data table notebook</a>'\n",
              "            + ' to learn more about interactive tables.';\n",
              "          element.innerHTML = '';\n",
              "          dataTable['output_type'] = 'display_data';\n",
              "          await google.colab.output.renderOutput(dataTable, element);\n",
              "          const docLink = document.createElement('div');\n",
              "          docLink.innerHTML = docLinkHtml;\n",
              "          element.appendChild(docLink);\n",
              "        }\n",
              "      </script>\n",
              "    </div>\n",
              "  </div>\n",
              "  "
            ]
          },
          "metadata": {},
          "execution_count": 60
        }
      ]
    },
    {
      "cell_type": "code",
      "source": [
        "# drop missing values\n",
        "df2 = df2.dropna()"
      ],
      "metadata": {
        "id": "zgKhJb4tArV2"
      },
      "execution_count": 61,
      "outputs": []
    },
    {
      "cell_type": "code",
      "source": [
        "df2.isna().sum()"
      ],
      "metadata": {
        "colab": {
          "base_uri": "https://localhost:8080/"
        },
        "id": "VAM5y3UIAzuM",
        "outputId": "98af090e-5447-4cba-c881-de0abc0347cf"
      },
      "execution_count": 62,
      "outputs": [
        {
          "output_type": "execute_result",
          "data": {
            "text/plain": [
              "province_state    0\n",
              "country_region    0\n",
              "date              0\n",
              "latitude          0\n",
              "longitude         0\n",
              "location_geom     0\n",
              "confirmed         0\n",
              "deaths            0\n",
              "recovered         0\n",
              "active            0\n",
              "fips              0\n",
              "admin2            0\n",
              "combined_key      0\n",
              "dtype: int64"
            ]
          },
          "metadata": {},
          "execution_count": 62
        }
      ]
    },
    {
      "cell_type": "code",
      "source": [
        "df2.dtypes"
      ],
      "metadata": {
        "colab": {
          "base_uri": "https://localhost:8080/"
        },
        "id": "tw5UgHpW3bqo",
        "outputId": "607e9005-c6a2-4fda-8d66-f805237b1c14"
      },
      "execution_count": 63,
      "outputs": [
        {
          "output_type": "execute_result",
          "data": {
            "text/plain": [
              "province_state     object\n",
              "country_region     object\n",
              "date               object\n",
              "latitude          float64\n",
              "longitude         float64\n",
              "location_geom      object\n",
              "confirmed         float64\n",
              "deaths            float64\n",
              "recovered         float64\n",
              "active            float64\n",
              "fips              float64\n",
              "admin2             object\n",
              "combined_key       object\n",
              "dtype: object"
            ]
          },
          "metadata": {},
          "execution_count": 63
        }
      ]
    },
    {
      "cell_type": "code",
      "source": [
        "df2[\"date\"] = pd.to_datetime(df2[\"date\"])"
      ],
      "metadata": {
        "id": "ZkZIhNpk66p2"
      },
      "execution_count": 64,
      "outputs": []
    },
    {
      "cell_type": "code",
      "source": [
        "df2['confirmed'] = df2['confirmed'].astype(int)\n",
        "df2['deaths'] = df2['deaths'].astype(int)\n",
        "df2['recovered'] = df2['recovered'].astype(int)\n",
        "df2['active'] = df2['active'].astype(int)"
      ],
      "metadata": {
        "id": "idiGe18v7HaI"
      },
      "execution_count": 65,
      "outputs": []
    },
    {
      "cell_type": "markdown",
      "source": [
        "### Manipulating Column"
      ],
      "metadata": {
        "id": "ds2NO1PaCMIv"
      }
    },
    {
      "cell_type": "code",
      "source": [
        "# drop kolom yang tidak diperlukan\n",
        "\n",
        "df2 = df2.drop(columns=['fips', 'admin2', 'combined_key', 'location_geom'])"
      ],
      "metadata": {
        "id": "BiXTiuv42-zO"
      },
      "execution_count": 66,
      "outputs": []
    },
    {
      "cell_type": "code",
      "source": [
        "# menambah kolom untuk spesifikasi tahun dan bulan\n",
        "\n",
        "df2['year'] = df2['date'].dt.year\n",
        "df2['month'] = df2['date'].dt.month"
      ],
      "metadata": {
        "id": "SODuz9-uuyBS"
      },
      "execution_count": 67,
      "outputs": []
    },
    {
      "cell_type": "markdown",
      "source": [
        "## Eksplorasi Data"
      ],
      "metadata": {
        "id": "qi_4XSDlgDEE"
      }
    },
    {
      "cell_type": "code",
      "source": [
        "df2.head()"
      ],
      "metadata": {
        "colab": {
          "base_uri": "https://localhost:8080/",
          "height": 206
        },
        "id": "oPgQcdu4UBVW",
        "outputId": "238d7733-263a-4765-d50c-7dc2c94f4096"
      },
      "execution_count": 68,
      "outputs": [
        {
          "output_type": "execute_result",
          "data": {
            "text/plain": [
              "      province_state country_region       date   latitude   longitude  \\\n",
              "4635  South Carolina             US 2020-06-29  34.223334  -82.461707   \n",
              "4636       Louisiana             US 2020-06-29  30.295065  -92.414197   \n",
              "4637        Virginia             US 2020-06-29  37.767072  -75.632346   \n",
              "4638           Idaho             US 2020-06-29  43.452658 -116.241552   \n",
              "4639            Iowa             US 2020-06-29  41.330756  -94.471059   \n",
              "\n",
              "      confirmed  deaths  recovered  active  year  month  \n",
              "4635        106       0          0     106  2020      6  \n",
              "4636        850      37          0     813  2020      6  \n",
              "4637       1039      14          0    1025  2020      6  \n",
              "4638       2040      23          0    2017  2020      6  \n",
              "4639         15       0          0      15  2020      6  "
            ],
            "text/html": [
              "\n",
              "  <div id=\"df-500150e1-598f-4c23-9dfd-c441a16a8ae2\">\n",
              "    <div class=\"colab-df-container\">\n",
              "      <div>\n",
              "<style scoped>\n",
              "    .dataframe tbody tr th:only-of-type {\n",
              "        vertical-align: middle;\n",
              "    }\n",
              "\n",
              "    .dataframe tbody tr th {\n",
              "        vertical-align: top;\n",
              "    }\n",
              "\n",
              "    .dataframe thead th {\n",
              "        text-align: right;\n",
              "    }\n",
              "</style>\n",
              "<table border=\"1\" class=\"dataframe\">\n",
              "  <thead>\n",
              "    <tr style=\"text-align: right;\">\n",
              "      <th></th>\n",
              "      <th>province_state</th>\n",
              "      <th>country_region</th>\n",
              "      <th>date</th>\n",
              "      <th>latitude</th>\n",
              "      <th>longitude</th>\n",
              "      <th>confirmed</th>\n",
              "      <th>deaths</th>\n",
              "      <th>recovered</th>\n",
              "      <th>active</th>\n",
              "      <th>year</th>\n",
              "      <th>month</th>\n",
              "    </tr>\n",
              "  </thead>\n",
              "  <tbody>\n",
              "    <tr>\n",
              "      <th>4635</th>\n",
              "      <td>South Carolina</td>\n",
              "      <td>US</td>\n",
              "      <td>2020-06-29</td>\n",
              "      <td>34.223334</td>\n",
              "      <td>-82.461707</td>\n",
              "      <td>106</td>\n",
              "      <td>0</td>\n",
              "      <td>0</td>\n",
              "      <td>106</td>\n",
              "      <td>2020</td>\n",
              "      <td>6</td>\n",
              "    </tr>\n",
              "    <tr>\n",
              "      <th>4636</th>\n",
              "      <td>Louisiana</td>\n",
              "      <td>US</td>\n",
              "      <td>2020-06-29</td>\n",
              "      <td>30.295065</td>\n",
              "      <td>-92.414197</td>\n",
              "      <td>850</td>\n",
              "      <td>37</td>\n",
              "      <td>0</td>\n",
              "      <td>813</td>\n",
              "      <td>2020</td>\n",
              "      <td>6</td>\n",
              "    </tr>\n",
              "    <tr>\n",
              "      <th>4637</th>\n",
              "      <td>Virginia</td>\n",
              "      <td>US</td>\n",
              "      <td>2020-06-29</td>\n",
              "      <td>37.767072</td>\n",
              "      <td>-75.632346</td>\n",
              "      <td>1039</td>\n",
              "      <td>14</td>\n",
              "      <td>0</td>\n",
              "      <td>1025</td>\n",
              "      <td>2020</td>\n",
              "      <td>6</td>\n",
              "    </tr>\n",
              "    <tr>\n",
              "      <th>4638</th>\n",
              "      <td>Idaho</td>\n",
              "      <td>US</td>\n",
              "      <td>2020-06-29</td>\n",
              "      <td>43.452658</td>\n",
              "      <td>-116.241552</td>\n",
              "      <td>2040</td>\n",
              "      <td>23</td>\n",
              "      <td>0</td>\n",
              "      <td>2017</td>\n",
              "      <td>2020</td>\n",
              "      <td>6</td>\n",
              "    </tr>\n",
              "    <tr>\n",
              "      <th>4639</th>\n",
              "      <td>Iowa</td>\n",
              "      <td>US</td>\n",
              "      <td>2020-06-29</td>\n",
              "      <td>41.330756</td>\n",
              "      <td>-94.471059</td>\n",
              "      <td>15</td>\n",
              "      <td>0</td>\n",
              "      <td>0</td>\n",
              "      <td>15</td>\n",
              "      <td>2020</td>\n",
              "      <td>6</td>\n",
              "    </tr>\n",
              "  </tbody>\n",
              "</table>\n",
              "</div>\n",
              "      <button class=\"colab-df-convert\" onclick=\"convertToInteractive('df-500150e1-598f-4c23-9dfd-c441a16a8ae2')\"\n",
              "              title=\"Convert this dataframe to an interactive table.\"\n",
              "              style=\"display:none;\">\n",
              "        \n",
              "  <svg xmlns=\"http://www.w3.org/2000/svg\" height=\"24px\"viewBox=\"0 0 24 24\"\n",
              "       width=\"24px\">\n",
              "    <path d=\"M0 0h24v24H0V0z\" fill=\"none\"/>\n",
              "    <path d=\"M18.56 5.44l.94 2.06.94-2.06 2.06-.94-2.06-.94-.94-2.06-.94 2.06-2.06.94zm-11 1L8.5 8.5l.94-2.06 2.06-.94-2.06-.94L8.5 2.5l-.94 2.06-2.06.94zm10 10l.94 2.06.94-2.06 2.06-.94-2.06-.94-.94-2.06-.94 2.06-2.06.94z\"/><path d=\"M17.41 7.96l-1.37-1.37c-.4-.4-.92-.59-1.43-.59-.52 0-1.04.2-1.43.59L10.3 9.45l-7.72 7.72c-.78.78-.78 2.05 0 2.83L4 21.41c.39.39.9.59 1.41.59.51 0 1.02-.2 1.41-.59l7.78-7.78 2.81-2.81c.8-.78.8-2.07 0-2.86zM5.41 20L4 18.59l7.72-7.72 1.47 1.35L5.41 20z\"/>\n",
              "  </svg>\n",
              "      </button>\n",
              "      \n",
              "  <style>\n",
              "    .colab-df-container {\n",
              "      display:flex;\n",
              "      flex-wrap:wrap;\n",
              "      gap: 12px;\n",
              "    }\n",
              "\n",
              "    .colab-df-convert {\n",
              "      background-color: #E8F0FE;\n",
              "      border: none;\n",
              "      border-radius: 50%;\n",
              "      cursor: pointer;\n",
              "      display: none;\n",
              "      fill: #1967D2;\n",
              "      height: 32px;\n",
              "      padding: 0 0 0 0;\n",
              "      width: 32px;\n",
              "    }\n",
              "\n",
              "    .colab-df-convert:hover {\n",
              "      background-color: #E2EBFA;\n",
              "      box-shadow: 0px 1px 2px rgba(60, 64, 67, 0.3), 0px 1px 3px 1px rgba(60, 64, 67, 0.15);\n",
              "      fill: #174EA6;\n",
              "    }\n",
              "\n",
              "    [theme=dark] .colab-df-convert {\n",
              "      background-color: #3B4455;\n",
              "      fill: #D2E3FC;\n",
              "    }\n",
              "\n",
              "    [theme=dark] .colab-df-convert:hover {\n",
              "      background-color: #434B5C;\n",
              "      box-shadow: 0px 1px 3px 1px rgba(0, 0, 0, 0.15);\n",
              "      filter: drop-shadow(0px 1px 2px rgba(0, 0, 0, 0.3));\n",
              "      fill: #FFFFFF;\n",
              "    }\n",
              "  </style>\n",
              "\n",
              "      <script>\n",
              "        const buttonEl =\n",
              "          document.querySelector('#df-500150e1-598f-4c23-9dfd-c441a16a8ae2 button.colab-df-convert');\n",
              "        buttonEl.style.display =\n",
              "          google.colab.kernel.accessAllowed ? 'block' : 'none';\n",
              "\n",
              "        async function convertToInteractive(key) {\n",
              "          const element = document.querySelector('#df-500150e1-598f-4c23-9dfd-c441a16a8ae2');\n",
              "          const dataTable =\n",
              "            await google.colab.kernel.invokeFunction('convertToInteractive',\n",
              "                                                     [key], {});\n",
              "          if (!dataTable) return;\n",
              "\n",
              "          const docLinkHtml = 'Like what you see? Visit the ' +\n",
              "            '<a target=\"_blank\" href=https://colab.research.google.com/notebooks/data_table.ipynb>data table notebook</a>'\n",
              "            + ' to learn more about interactive tables.';\n",
              "          element.innerHTML = '';\n",
              "          dataTable['output_type'] = 'display_data';\n",
              "          await google.colab.output.renderOutput(dataTable, element);\n",
              "          const docLink = document.createElement('div');\n",
              "          docLink.innerHTML = docLinkHtml;\n",
              "          element.appendChild(docLink);\n",
              "        }\n",
              "      </script>\n",
              "    </div>\n",
              "  </div>\n",
              "  "
            ]
          },
          "metadata": {},
          "execution_count": 68
        }
      ]
    },
    {
      "cell_type": "code",
      "source": [
        "# melihat data unique pada kolom country_region untuk melihat negara apa saja yang terdata\n",
        "\n",
        "df2['country_region'].unique()"
      ],
      "metadata": {
        "colab": {
          "base_uri": "https://localhost:8080/"
        },
        "id": "nx1tbwIr1ei5",
        "outputId": "b34f0684-f65f-40dd-8d5b-46832fbcbdac"
      },
      "execution_count": 143,
      "outputs": [
        {
          "output_type": "execute_result",
          "data": {
            "text/plain": [
              "array(['US'], dtype=object)"
            ]
          },
          "metadata": {},
          "execution_count": 143
        }
      ]
    },
    {
      "cell_type": "code",
      "source": [
        "# melihat data maksimum \n",
        "df2[['confirmed', 'deaths', 'recovered', 'active']].max()"
      ],
      "metadata": {
        "colab": {
          "base_uri": "https://localhost:8080/"
        },
        "id": "MalCYk1sTMXL",
        "outputId": "4a38faed-0d53-4d06-8c37-7857d291d672"
      },
      "execution_count": 69,
      "outputs": [
        {
          "output_type": "execute_result",
          "data": {
            "text/plain": [
              "confirmed    1201868\n",
              "deaths         23689\n",
              "recovered          0\n",
              "active       2461378\n",
              "dtype: int64"
            ]
          },
          "metadata": {},
          "execution_count": 69
        }
      ]
    },
    {
      "cell_type": "code",
      "source": [
        "# melakukan tracing untuk mencari data maksismum\n",
        "\n",
        "df2[df2[\"confirmed\"] == 1201868]"
      ],
      "metadata": {
        "colab": {
          "base_uri": "https://localhost:8080/",
          "height": 81
        },
        "id": "YxCYAWa2XNUu",
        "outputId": "30561ca7-d1fe-4c47-90a6-36b7839dba71"
      },
      "execution_count": 70,
      "outputs": [
        {
          "output_type": "execute_result",
          "data": {
            "text/plain": [
              "       province_state country_region       date   latitude   longitude  \\\n",
              "538318     California             US 2021-03-06  34.308284 -118.228241   \n",
              "\n",
              "        confirmed  deaths  recovered   active  year  month  \n",
              "538318    1201868   22015          0  1179853  2021      3  "
            ],
            "text/html": [
              "\n",
              "  <div id=\"df-da086c66-b8e5-4267-b29f-bf908d06f221\">\n",
              "    <div class=\"colab-df-container\">\n",
              "      <div>\n",
              "<style scoped>\n",
              "    .dataframe tbody tr th:only-of-type {\n",
              "        vertical-align: middle;\n",
              "    }\n",
              "\n",
              "    .dataframe tbody tr th {\n",
              "        vertical-align: top;\n",
              "    }\n",
              "\n",
              "    .dataframe thead th {\n",
              "        text-align: right;\n",
              "    }\n",
              "</style>\n",
              "<table border=\"1\" class=\"dataframe\">\n",
              "  <thead>\n",
              "    <tr style=\"text-align: right;\">\n",
              "      <th></th>\n",
              "      <th>province_state</th>\n",
              "      <th>country_region</th>\n",
              "      <th>date</th>\n",
              "      <th>latitude</th>\n",
              "      <th>longitude</th>\n",
              "      <th>confirmed</th>\n",
              "      <th>deaths</th>\n",
              "      <th>recovered</th>\n",
              "      <th>active</th>\n",
              "      <th>year</th>\n",
              "      <th>month</th>\n",
              "    </tr>\n",
              "  </thead>\n",
              "  <tbody>\n",
              "    <tr>\n",
              "      <th>538318</th>\n",
              "      <td>California</td>\n",
              "      <td>US</td>\n",
              "      <td>2021-03-06</td>\n",
              "      <td>34.308284</td>\n",
              "      <td>-118.228241</td>\n",
              "      <td>1201868</td>\n",
              "      <td>22015</td>\n",
              "      <td>0</td>\n",
              "      <td>1179853</td>\n",
              "      <td>2021</td>\n",
              "      <td>3</td>\n",
              "    </tr>\n",
              "  </tbody>\n",
              "</table>\n",
              "</div>\n",
              "      <button class=\"colab-df-convert\" onclick=\"convertToInteractive('df-da086c66-b8e5-4267-b29f-bf908d06f221')\"\n",
              "              title=\"Convert this dataframe to an interactive table.\"\n",
              "              style=\"display:none;\">\n",
              "        \n",
              "  <svg xmlns=\"http://www.w3.org/2000/svg\" height=\"24px\"viewBox=\"0 0 24 24\"\n",
              "       width=\"24px\">\n",
              "    <path d=\"M0 0h24v24H0V0z\" fill=\"none\"/>\n",
              "    <path d=\"M18.56 5.44l.94 2.06.94-2.06 2.06-.94-2.06-.94-.94-2.06-.94 2.06-2.06.94zm-11 1L8.5 8.5l.94-2.06 2.06-.94-2.06-.94L8.5 2.5l-.94 2.06-2.06.94zm10 10l.94 2.06.94-2.06 2.06-.94-2.06-.94-.94-2.06-.94 2.06-2.06.94z\"/><path d=\"M17.41 7.96l-1.37-1.37c-.4-.4-.92-.59-1.43-.59-.52 0-1.04.2-1.43.59L10.3 9.45l-7.72 7.72c-.78.78-.78 2.05 0 2.83L4 21.41c.39.39.9.59 1.41.59.51 0 1.02-.2 1.41-.59l7.78-7.78 2.81-2.81c.8-.78.8-2.07 0-2.86zM5.41 20L4 18.59l7.72-7.72 1.47 1.35L5.41 20z\"/>\n",
              "  </svg>\n",
              "      </button>\n",
              "      \n",
              "  <style>\n",
              "    .colab-df-container {\n",
              "      display:flex;\n",
              "      flex-wrap:wrap;\n",
              "      gap: 12px;\n",
              "    }\n",
              "\n",
              "    .colab-df-convert {\n",
              "      background-color: #E8F0FE;\n",
              "      border: none;\n",
              "      border-radius: 50%;\n",
              "      cursor: pointer;\n",
              "      display: none;\n",
              "      fill: #1967D2;\n",
              "      height: 32px;\n",
              "      padding: 0 0 0 0;\n",
              "      width: 32px;\n",
              "    }\n",
              "\n",
              "    .colab-df-convert:hover {\n",
              "      background-color: #E2EBFA;\n",
              "      box-shadow: 0px 1px 2px rgba(60, 64, 67, 0.3), 0px 1px 3px 1px rgba(60, 64, 67, 0.15);\n",
              "      fill: #174EA6;\n",
              "    }\n",
              "\n",
              "    [theme=dark] .colab-df-convert {\n",
              "      background-color: #3B4455;\n",
              "      fill: #D2E3FC;\n",
              "    }\n",
              "\n",
              "    [theme=dark] .colab-df-convert:hover {\n",
              "      background-color: #434B5C;\n",
              "      box-shadow: 0px 1px 3px 1px rgba(0, 0, 0, 0.15);\n",
              "      filter: drop-shadow(0px 1px 2px rgba(0, 0, 0, 0.3));\n",
              "      fill: #FFFFFF;\n",
              "    }\n",
              "  </style>\n",
              "\n",
              "      <script>\n",
              "        const buttonEl =\n",
              "          document.querySelector('#df-da086c66-b8e5-4267-b29f-bf908d06f221 button.colab-df-convert');\n",
              "        buttonEl.style.display =\n",
              "          google.colab.kernel.accessAllowed ? 'block' : 'none';\n",
              "\n",
              "        async function convertToInteractive(key) {\n",
              "          const element = document.querySelector('#df-da086c66-b8e5-4267-b29f-bf908d06f221');\n",
              "          const dataTable =\n",
              "            await google.colab.kernel.invokeFunction('convertToInteractive',\n",
              "                                                     [key], {});\n",
              "          if (!dataTable) return;\n",
              "\n",
              "          const docLinkHtml = 'Like what you see? Visit the ' +\n",
              "            '<a target=\"_blank\" href=https://colab.research.google.com/notebooks/data_table.ipynb>data table notebook</a>'\n",
              "            + ' to learn more about interactive tables.';\n",
              "          element.innerHTML = '';\n",
              "          dataTable['output_type'] = 'display_data';\n",
              "          await google.colab.output.renderOutput(dataTable, element);\n",
              "          const docLink = document.createElement('div');\n",
              "          docLink.innerHTML = docLinkHtml;\n",
              "          element.appendChild(docLink);\n",
              "        }\n",
              "      </script>\n",
              "    </div>\n",
              "  </div>\n",
              "  "
            ]
          },
          "metadata": {},
          "execution_count": 70
        }
      ]
    },
    {
      "cell_type": "code",
      "source": [
        "df2[df2[\"deaths\"] == 23689]"
      ],
      "metadata": {
        "colab": {
          "base_uri": "https://localhost:8080/",
          "height": 81
        },
        "id": "YlkYnn9sXWS7",
        "outputId": "813e18c7-ad67-4b80-a2d2-3d7a0819ddcb"
      },
      "execution_count": 71,
      "outputs": [
        {
          "output_type": "execute_result",
          "data": {
            "text/plain": [
              "        province_state country_region       date   latitude  longitude  \\\n",
              "3359964       New York             US 2020-08-30  40.767273 -73.971526   \n",
              "\n",
              "         confirmed  deaths  recovered  active  year  month  \n",
              "3359964     233969   23689          0  210280  2020      8  "
            ],
            "text/html": [
              "\n",
              "  <div id=\"df-0f115e64-94ba-4826-a509-1c65385ca6df\">\n",
              "    <div class=\"colab-df-container\">\n",
              "      <div>\n",
              "<style scoped>\n",
              "    .dataframe tbody tr th:only-of-type {\n",
              "        vertical-align: middle;\n",
              "    }\n",
              "\n",
              "    .dataframe tbody tr th {\n",
              "        vertical-align: top;\n",
              "    }\n",
              "\n",
              "    .dataframe thead th {\n",
              "        text-align: right;\n",
              "    }\n",
              "</style>\n",
              "<table border=\"1\" class=\"dataframe\">\n",
              "  <thead>\n",
              "    <tr style=\"text-align: right;\">\n",
              "      <th></th>\n",
              "      <th>province_state</th>\n",
              "      <th>country_region</th>\n",
              "      <th>date</th>\n",
              "      <th>latitude</th>\n",
              "      <th>longitude</th>\n",
              "      <th>confirmed</th>\n",
              "      <th>deaths</th>\n",
              "      <th>recovered</th>\n",
              "      <th>active</th>\n",
              "      <th>year</th>\n",
              "      <th>month</th>\n",
              "    </tr>\n",
              "  </thead>\n",
              "  <tbody>\n",
              "    <tr>\n",
              "      <th>3359964</th>\n",
              "      <td>New York</td>\n",
              "      <td>US</td>\n",
              "      <td>2020-08-30</td>\n",
              "      <td>40.767273</td>\n",
              "      <td>-73.971526</td>\n",
              "      <td>233969</td>\n",
              "      <td>23689</td>\n",
              "      <td>0</td>\n",
              "      <td>210280</td>\n",
              "      <td>2020</td>\n",
              "      <td>8</td>\n",
              "    </tr>\n",
              "  </tbody>\n",
              "</table>\n",
              "</div>\n",
              "      <button class=\"colab-df-convert\" onclick=\"convertToInteractive('df-0f115e64-94ba-4826-a509-1c65385ca6df')\"\n",
              "              title=\"Convert this dataframe to an interactive table.\"\n",
              "              style=\"display:none;\">\n",
              "        \n",
              "  <svg xmlns=\"http://www.w3.org/2000/svg\" height=\"24px\"viewBox=\"0 0 24 24\"\n",
              "       width=\"24px\">\n",
              "    <path d=\"M0 0h24v24H0V0z\" fill=\"none\"/>\n",
              "    <path d=\"M18.56 5.44l.94 2.06.94-2.06 2.06-.94-2.06-.94-.94-2.06-.94 2.06-2.06.94zm-11 1L8.5 8.5l.94-2.06 2.06-.94-2.06-.94L8.5 2.5l-.94 2.06-2.06.94zm10 10l.94 2.06.94-2.06 2.06-.94-2.06-.94-.94-2.06-.94 2.06-2.06.94z\"/><path d=\"M17.41 7.96l-1.37-1.37c-.4-.4-.92-.59-1.43-.59-.52 0-1.04.2-1.43.59L10.3 9.45l-7.72 7.72c-.78.78-.78 2.05 0 2.83L4 21.41c.39.39.9.59 1.41.59.51 0 1.02-.2 1.41-.59l7.78-7.78 2.81-2.81c.8-.78.8-2.07 0-2.86zM5.41 20L4 18.59l7.72-7.72 1.47 1.35L5.41 20z\"/>\n",
              "  </svg>\n",
              "      </button>\n",
              "      \n",
              "  <style>\n",
              "    .colab-df-container {\n",
              "      display:flex;\n",
              "      flex-wrap:wrap;\n",
              "      gap: 12px;\n",
              "    }\n",
              "\n",
              "    .colab-df-convert {\n",
              "      background-color: #E8F0FE;\n",
              "      border: none;\n",
              "      border-radius: 50%;\n",
              "      cursor: pointer;\n",
              "      display: none;\n",
              "      fill: #1967D2;\n",
              "      height: 32px;\n",
              "      padding: 0 0 0 0;\n",
              "      width: 32px;\n",
              "    }\n",
              "\n",
              "    .colab-df-convert:hover {\n",
              "      background-color: #E2EBFA;\n",
              "      box-shadow: 0px 1px 2px rgba(60, 64, 67, 0.3), 0px 1px 3px 1px rgba(60, 64, 67, 0.15);\n",
              "      fill: #174EA6;\n",
              "    }\n",
              "\n",
              "    [theme=dark] .colab-df-convert {\n",
              "      background-color: #3B4455;\n",
              "      fill: #D2E3FC;\n",
              "    }\n",
              "\n",
              "    [theme=dark] .colab-df-convert:hover {\n",
              "      background-color: #434B5C;\n",
              "      box-shadow: 0px 1px 3px 1px rgba(0, 0, 0, 0.15);\n",
              "      filter: drop-shadow(0px 1px 2px rgba(0, 0, 0, 0.3));\n",
              "      fill: #FFFFFF;\n",
              "    }\n",
              "  </style>\n",
              "\n",
              "      <script>\n",
              "        const buttonEl =\n",
              "          document.querySelector('#df-0f115e64-94ba-4826-a509-1c65385ca6df button.colab-df-convert');\n",
              "        buttonEl.style.display =\n",
              "          google.colab.kernel.accessAllowed ? 'block' : 'none';\n",
              "\n",
              "        async function convertToInteractive(key) {\n",
              "          const element = document.querySelector('#df-0f115e64-94ba-4826-a509-1c65385ca6df');\n",
              "          const dataTable =\n",
              "            await google.colab.kernel.invokeFunction('convertToInteractive',\n",
              "                                                     [key], {});\n",
              "          if (!dataTable) return;\n",
              "\n",
              "          const docLinkHtml = 'Like what you see? Visit the ' +\n",
              "            '<a target=\"_blank\" href=https://colab.research.google.com/notebooks/data_table.ipynb>data table notebook</a>'\n",
              "            + ' to learn more about interactive tables.';\n",
              "          element.innerHTML = '';\n",
              "          dataTable['output_type'] = 'display_data';\n",
              "          await google.colab.output.renderOutput(dataTable, element);\n",
              "          const docLink = document.createElement('div');\n",
              "          docLink.innerHTML = docLinkHtml;\n",
              "          element.appendChild(docLink);\n",
              "        }\n",
              "      </script>\n",
              "    </div>\n",
              "  </div>\n",
              "  "
            ]
          },
          "metadata": {},
          "execution_count": 71
        }
      ]
    },
    {
      "cell_type": "code",
      "source": [
        "df2[df2[\"active\"] == 2461378]"
      ],
      "metadata": {
        "colab": {
          "base_uri": "https://localhost:8080/",
          "height": 81
        },
        "id": "IHczRTDfXnrq",
        "outputId": "46d4ddd8-d9b5-4736-b4fd-09eab8385022"
      },
      "execution_count": 72,
      "outputs": [
        {
          "output_type": "execute_result",
          "data": {
            "text/plain": [
              "        province_state country_region       date   latitude  longitude  \\\n",
              "1727718          Texas             US 2021-02-22  32.766706 -96.777961   \n",
              "\n",
              "         confirmed  deaths  recovered   active  year  month  \n",
              "1727718     276945    3275          0  2461378  2021      2  "
            ],
            "text/html": [
              "\n",
              "  <div id=\"df-25312459-fcf7-41e0-8bb0-3bdc745264e3\">\n",
              "    <div class=\"colab-df-container\">\n",
              "      <div>\n",
              "<style scoped>\n",
              "    .dataframe tbody tr th:only-of-type {\n",
              "        vertical-align: middle;\n",
              "    }\n",
              "\n",
              "    .dataframe tbody tr th {\n",
              "        vertical-align: top;\n",
              "    }\n",
              "\n",
              "    .dataframe thead th {\n",
              "        text-align: right;\n",
              "    }\n",
              "</style>\n",
              "<table border=\"1\" class=\"dataframe\">\n",
              "  <thead>\n",
              "    <tr style=\"text-align: right;\">\n",
              "      <th></th>\n",
              "      <th>province_state</th>\n",
              "      <th>country_region</th>\n",
              "      <th>date</th>\n",
              "      <th>latitude</th>\n",
              "      <th>longitude</th>\n",
              "      <th>confirmed</th>\n",
              "      <th>deaths</th>\n",
              "      <th>recovered</th>\n",
              "      <th>active</th>\n",
              "      <th>year</th>\n",
              "      <th>month</th>\n",
              "    </tr>\n",
              "  </thead>\n",
              "  <tbody>\n",
              "    <tr>\n",
              "      <th>1727718</th>\n",
              "      <td>Texas</td>\n",
              "      <td>US</td>\n",
              "      <td>2021-02-22</td>\n",
              "      <td>32.766706</td>\n",
              "      <td>-96.777961</td>\n",
              "      <td>276945</td>\n",
              "      <td>3275</td>\n",
              "      <td>0</td>\n",
              "      <td>2461378</td>\n",
              "      <td>2021</td>\n",
              "      <td>2</td>\n",
              "    </tr>\n",
              "  </tbody>\n",
              "</table>\n",
              "</div>\n",
              "      <button class=\"colab-df-convert\" onclick=\"convertToInteractive('df-25312459-fcf7-41e0-8bb0-3bdc745264e3')\"\n",
              "              title=\"Convert this dataframe to an interactive table.\"\n",
              "              style=\"display:none;\">\n",
              "        \n",
              "  <svg xmlns=\"http://www.w3.org/2000/svg\" height=\"24px\"viewBox=\"0 0 24 24\"\n",
              "       width=\"24px\">\n",
              "    <path d=\"M0 0h24v24H0V0z\" fill=\"none\"/>\n",
              "    <path d=\"M18.56 5.44l.94 2.06.94-2.06 2.06-.94-2.06-.94-.94-2.06-.94 2.06-2.06.94zm-11 1L8.5 8.5l.94-2.06 2.06-.94-2.06-.94L8.5 2.5l-.94 2.06-2.06.94zm10 10l.94 2.06.94-2.06 2.06-.94-2.06-.94-.94-2.06-.94 2.06-2.06.94z\"/><path d=\"M17.41 7.96l-1.37-1.37c-.4-.4-.92-.59-1.43-.59-.52 0-1.04.2-1.43.59L10.3 9.45l-7.72 7.72c-.78.78-.78 2.05 0 2.83L4 21.41c.39.39.9.59 1.41.59.51 0 1.02-.2 1.41-.59l7.78-7.78 2.81-2.81c.8-.78.8-2.07 0-2.86zM5.41 20L4 18.59l7.72-7.72 1.47 1.35L5.41 20z\"/>\n",
              "  </svg>\n",
              "      </button>\n",
              "      \n",
              "  <style>\n",
              "    .colab-df-container {\n",
              "      display:flex;\n",
              "      flex-wrap:wrap;\n",
              "      gap: 12px;\n",
              "    }\n",
              "\n",
              "    .colab-df-convert {\n",
              "      background-color: #E8F0FE;\n",
              "      border: none;\n",
              "      border-radius: 50%;\n",
              "      cursor: pointer;\n",
              "      display: none;\n",
              "      fill: #1967D2;\n",
              "      height: 32px;\n",
              "      padding: 0 0 0 0;\n",
              "      width: 32px;\n",
              "    }\n",
              "\n",
              "    .colab-df-convert:hover {\n",
              "      background-color: #E2EBFA;\n",
              "      box-shadow: 0px 1px 2px rgba(60, 64, 67, 0.3), 0px 1px 3px 1px rgba(60, 64, 67, 0.15);\n",
              "      fill: #174EA6;\n",
              "    }\n",
              "\n",
              "    [theme=dark] .colab-df-convert {\n",
              "      background-color: #3B4455;\n",
              "      fill: #D2E3FC;\n",
              "    }\n",
              "\n",
              "    [theme=dark] .colab-df-convert:hover {\n",
              "      background-color: #434B5C;\n",
              "      box-shadow: 0px 1px 3px 1px rgba(0, 0, 0, 0.15);\n",
              "      filter: drop-shadow(0px 1px 2px rgba(0, 0, 0, 0.3));\n",
              "      fill: #FFFFFF;\n",
              "    }\n",
              "  </style>\n",
              "\n",
              "      <script>\n",
              "        const buttonEl =\n",
              "          document.querySelector('#df-25312459-fcf7-41e0-8bb0-3bdc745264e3 button.colab-df-convert');\n",
              "        buttonEl.style.display =\n",
              "          google.colab.kernel.accessAllowed ? 'block' : 'none';\n",
              "\n",
              "        async function convertToInteractive(key) {\n",
              "          const element = document.querySelector('#df-25312459-fcf7-41e0-8bb0-3bdc745264e3');\n",
              "          const dataTable =\n",
              "            await google.colab.kernel.invokeFunction('convertToInteractive',\n",
              "                                                     [key], {});\n",
              "          if (!dataTable) return;\n",
              "\n",
              "          const docLinkHtml = 'Like what you see? Visit the ' +\n",
              "            '<a target=\"_blank\" href=https://colab.research.google.com/notebooks/data_table.ipynb>data table notebook</a>'\n",
              "            + ' to learn more about interactive tables.';\n",
              "          element.innerHTML = '';\n",
              "          dataTable['output_type'] = 'display_data';\n",
              "          await google.colab.output.renderOutput(dataTable, element);\n",
              "          const docLink = document.createElement('div');\n",
              "          docLink.innerHTML = docLinkHtml;\n",
              "          element.appendChild(docLink);\n",
              "        }\n",
              "      </script>\n",
              "    </div>\n",
              "  </div>\n",
              "  "
            ]
          },
          "metadata": {},
          "execution_count": 72
        }
      ]
    },
    {
      "cell_type": "code",
      "source": [
        "# membuat variabel baru untuk meng-assign data yang telah di group dan di aggregat agar tersimpan dan dapat digunakan dengan mudah nantinya.\n",
        "\n",
        "max_confirmed_2020_US = pd.DataFrame(df2[(df2[\"year\"] == 2020)].groupby([\"province_state\"])[\"confirmed\"].max())\n",
        "max_deaths_2020_US = pd.DataFrame(df2[(df2[\"year\"] == 2020)].groupby([\"province_state\"])[\"deaths\"].max())\n",
        "max_confirmed_month2020 = pd.DataFrame(df2[(df2[\"year\"] == 2020)].groupby([\"month\"])[\"confirmed\"].max())\n",
        "max_deaths_month2020 = pd.DataFrame(df2[(df2[\"year\"] == 2020)].groupby([\"month\"])[\"deaths\"].max())"
      ],
      "metadata": {
        "id": "iKik_LmWyS2I"
      },
      "execution_count": 134,
      "outputs": []
    },
    {
      "cell_type": "code",
      "source": [
        "# melihat nilai tengah sebagai acuan visualisasi agar tidak terlalu banyak menampilkan data\n",
        "\n",
        "max_confirmed_2020_US.describe()"
      ],
      "metadata": {
        "colab": {
          "base_uri": "https://localhost:8080/",
          "height": 300
        },
        "id": "m8vHFHbJxEK7",
        "outputId": "04631d5e-d23a-47a4-d7b2-3414ab09c13d"
      },
      "execution_count": 127,
      "outputs": [
        {
          "output_type": "execute_result",
          "data": {
            "text/plain": [
              "           confirmed\n",
              "count      52.000000\n",
              "mean    85947.615385\n",
              "std    126785.750502\n",
              "min      2658.000000\n",
              "25%     25211.750000\n",
              "50%     51571.500000\n",
              "75%     77723.750000\n",
              "max    770602.000000"
            ],
            "text/html": [
              "\n",
              "  <div id=\"df-db9105db-8f67-4fe6-a645-1344f357bb01\">\n",
              "    <div class=\"colab-df-container\">\n",
              "      <div>\n",
              "<style scoped>\n",
              "    .dataframe tbody tr th:only-of-type {\n",
              "        vertical-align: middle;\n",
              "    }\n",
              "\n",
              "    .dataframe tbody tr th {\n",
              "        vertical-align: top;\n",
              "    }\n",
              "\n",
              "    .dataframe thead th {\n",
              "        text-align: right;\n",
              "    }\n",
              "</style>\n",
              "<table border=\"1\" class=\"dataframe\">\n",
              "  <thead>\n",
              "    <tr style=\"text-align: right;\">\n",
              "      <th></th>\n",
              "      <th>confirmed</th>\n",
              "    </tr>\n",
              "  </thead>\n",
              "  <tbody>\n",
              "    <tr>\n",
              "      <th>count</th>\n",
              "      <td>52.000000</td>\n",
              "    </tr>\n",
              "    <tr>\n",
              "      <th>mean</th>\n",
              "      <td>85947.615385</td>\n",
              "    </tr>\n",
              "    <tr>\n",
              "      <th>std</th>\n",
              "      <td>126785.750502</td>\n",
              "    </tr>\n",
              "    <tr>\n",
              "      <th>min</th>\n",
              "      <td>2658.000000</td>\n",
              "    </tr>\n",
              "    <tr>\n",
              "      <th>25%</th>\n",
              "      <td>25211.750000</td>\n",
              "    </tr>\n",
              "    <tr>\n",
              "      <th>50%</th>\n",
              "      <td>51571.500000</td>\n",
              "    </tr>\n",
              "    <tr>\n",
              "      <th>75%</th>\n",
              "      <td>77723.750000</td>\n",
              "    </tr>\n",
              "    <tr>\n",
              "      <th>max</th>\n",
              "      <td>770602.000000</td>\n",
              "    </tr>\n",
              "  </tbody>\n",
              "</table>\n",
              "</div>\n",
              "      <button class=\"colab-df-convert\" onclick=\"convertToInteractive('df-db9105db-8f67-4fe6-a645-1344f357bb01')\"\n",
              "              title=\"Convert this dataframe to an interactive table.\"\n",
              "              style=\"display:none;\">\n",
              "        \n",
              "  <svg xmlns=\"http://www.w3.org/2000/svg\" height=\"24px\"viewBox=\"0 0 24 24\"\n",
              "       width=\"24px\">\n",
              "    <path d=\"M0 0h24v24H0V0z\" fill=\"none\"/>\n",
              "    <path d=\"M18.56 5.44l.94 2.06.94-2.06 2.06-.94-2.06-.94-.94-2.06-.94 2.06-2.06.94zm-11 1L8.5 8.5l.94-2.06 2.06-.94-2.06-.94L8.5 2.5l-.94 2.06-2.06.94zm10 10l.94 2.06.94-2.06 2.06-.94-2.06-.94-.94-2.06-.94 2.06-2.06.94z\"/><path d=\"M17.41 7.96l-1.37-1.37c-.4-.4-.92-.59-1.43-.59-.52 0-1.04.2-1.43.59L10.3 9.45l-7.72 7.72c-.78.78-.78 2.05 0 2.83L4 21.41c.39.39.9.59 1.41.59.51 0 1.02-.2 1.41-.59l7.78-7.78 2.81-2.81c.8-.78.8-2.07 0-2.86zM5.41 20L4 18.59l7.72-7.72 1.47 1.35L5.41 20z\"/>\n",
              "  </svg>\n",
              "      </button>\n",
              "      \n",
              "  <style>\n",
              "    .colab-df-container {\n",
              "      display:flex;\n",
              "      flex-wrap:wrap;\n",
              "      gap: 12px;\n",
              "    }\n",
              "\n",
              "    .colab-df-convert {\n",
              "      background-color: #E8F0FE;\n",
              "      border: none;\n",
              "      border-radius: 50%;\n",
              "      cursor: pointer;\n",
              "      display: none;\n",
              "      fill: #1967D2;\n",
              "      height: 32px;\n",
              "      padding: 0 0 0 0;\n",
              "      width: 32px;\n",
              "    }\n",
              "\n",
              "    .colab-df-convert:hover {\n",
              "      background-color: #E2EBFA;\n",
              "      box-shadow: 0px 1px 2px rgba(60, 64, 67, 0.3), 0px 1px 3px 1px rgba(60, 64, 67, 0.15);\n",
              "      fill: #174EA6;\n",
              "    }\n",
              "\n",
              "    [theme=dark] .colab-df-convert {\n",
              "      background-color: #3B4455;\n",
              "      fill: #D2E3FC;\n",
              "    }\n",
              "\n",
              "    [theme=dark] .colab-df-convert:hover {\n",
              "      background-color: #434B5C;\n",
              "      box-shadow: 0px 1px 3px 1px rgba(0, 0, 0, 0.15);\n",
              "      filter: drop-shadow(0px 1px 2px rgba(0, 0, 0, 0.3));\n",
              "      fill: #FFFFFF;\n",
              "    }\n",
              "  </style>\n",
              "\n",
              "      <script>\n",
              "        const buttonEl =\n",
              "          document.querySelector('#df-db9105db-8f67-4fe6-a645-1344f357bb01 button.colab-df-convert');\n",
              "        buttonEl.style.display =\n",
              "          google.colab.kernel.accessAllowed ? 'block' : 'none';\n",
              "\n",
              "        async function convertToInteractive(key) {\n",
              "          const element = document.querySelector('#df-db9105db-8f67-4fe6-a645-1344f357bb01');\n",
              "          const dataTable =\n",
              "            await google.colab.kernel.invokeFunction('convertToInteractive',\n",
              "                                                     [key], {});\n",
              "          if (!dataTable) return;\n",
              "\n",
              "          const docLinkHtml = 'Like what you see? Visit the ' +\n",
              "            '<a target=\"_blank\" href=https://colab.research.google.com/notebooks/data_table.ipynb>data table notebook</a>'\n",
              "            + ' to learn more about interactive tables.';\n",
              "          element.innerHTML = '';\n",
              "          dataTable['output_type'] = 'display_data';\n",
              "          await google.colab.output.renderOutput(dataTable, element);\n",
              "          const docLink = document.createElement('div');\n",
              "          docLink.innerHTML = docLinkHtml;\n",
              "          element.appendChild(docLink);\n",
              "        }\n",
              "      </script>\n",
              "    </div>\n",
              "  </div>\n",
              "  "
            ]
          },
          "metadata": {},
          "execution_count": 127
        }
      ]
    },
    {
      "cell_type": "code",
      "source": [
        "# jumlah kasus tertinggi yang pernah terkonfirmasi, menggunakan bar plot untuk membandingkan setiap provincenya\n",
        "\n",
        "max_confirmed_2020_US[max_confirmed_2020_US['confirmed'] > 51571.500000].plot(kind=\"bar\", figsize=(10, 5))"
      ],
      "metadata": {
        "colab": {
          "base_uri": "https://localhost:8080/",
          "height": 417
        },
        "id": "5Clv5CgxyuZ4",
        "outputId": "64f3287b-c841-42e7-b3fa-18e1ddc8e9fc"
      },
      "execution_count": 128,
      "outputs": [
        {
          "output_type": "execute_result",
          "data": {
            "text/plain": [
              "<matplotlib.axes._subplots.AxesSubplot at 0x7faa5be8a070>"
            ]
          },
          "metadata": {},
          "execution_count": 128
        },
        {
          "output_type": "display_data",
          "data": {
            "text/plain": [
              "<Figure size 720x360 with 1 Axes>"
            ],
            "image/png": "[encoded data removed]"
          },
          "metadata": {
            "needs_background": "light"
          }
        }
      ]
    },
    {
      "cell_type": "code",
      "source": [
        "max_deaths_2020_US.describe()"
      ],
      "metadata": {
        "colab": {
          "base_uri": "https://localhost:8080/",
          "height": 300
        },
        "id": "8MqoGk-W25Hk",
        "outputId": "a0a90a8f-8586-41ad-f4aa-a60f1d558155"
      },
      "execution_count": 122,
      "outputs": [
        {
          "output_type": "execute_result",
          "data": {
            "text/plain": [
              "             deaths\n",
              "count     52.000000\n",
              "mean    1792.500000\n",
              "std     3664.559704\n",
              "min        0.000000\n",
              "25%      390.000000\n",
              "50%      673.000000\n",
              "75%     1384.250000\n",
              "max    23689.000000"
            ],
            "text/html": [
              "\n",
              "  <div id=\"df-71165b7d-9e47-464b-81d0-0bdc7461aa77\">\n",
              "    <div class=\"colab-df-container\">\n",
              "      <div>\n",
              "<style scoped>\n",
              "    .dataframe tbody tr th:only-of-type {\n",
              "        vertical-align: middle;\n",
              "    }\n",
              "\n",
              "    .dataframe tbody tr th {\n",
              "        vertical-align: top;\n",
              "    }\n",
              "\n",
              "    .dataframe thead th {\n",
              "        text-align: right;\n",
              "    }\n",
              "</style>\n",
              "<table border=\"1\" class=\"dataframe\">\n",
              "  <thead>\n",
              "    <tr style=\"text-align: right;\">\n",
              "      <th></th>\n",
              "      <th>deaths</th>\n",
              "    </tr>\n",
              "  </thead>\n",
              "  <tbody>\n",
              "    <tr>\n",
              "      <th>count</th>\n",
              "      <td>52.000000</td>\n",
              "    </tr>\n",
              "    <tr>\n",
              "      <th>mean</th>\n",
              "      <td>1792.500000</td>\n",
              "    </tr>\n",
              "    <tr>\n",
              "      <th>std</th>\n",
              "      <td>3664.559704</td>\n",
              "    </tr>\n",
              "    <tr>\n",
              "      <th>min</th>\n",
              "      <td>0.000000</td>\n",
              "    </tr>\n",
              "    <tr>\n",
              "      <th>25%</th>\n",
              "      <td>390.000000</td>\n",
              "    </tr>\n",
              "    <tr>\n",
              "      <th>50%</th>\n",
              "      <td>673.000000</td>\n",
              "    </tr>\n",
              "    <tr>\n",
              "      <th>75%</th>\n",
              "      <td>1384.250000</td>\n",
              "    </tr>\n",
              "    <tr>\n",
              "      <th>max</th>\n",
              "      <td>23689.000000</td>\n",
              "    </tr>\n",
              "  </tbody>\n",
              "</table>\n",
              "</div>\n",
              "      <button class=\"colab-df-convert\" onclick=\"convertToInteractive('df-71165b7d-9e47-464b-81d0-0bdc7461aa77')\"\n",
              "              title=\"Convert this dataframe to an interactive table.\"\n",
              "              style=\"display:none;\">\n",
              "        \n",
              "  <svg xmlns=\"http://www.w3.org/2000/svg\" height=\"24px\"viewBox=\"0 0 24 24\"\n",
              "       width=\"24px\">\n",
              "    <path d=\"M0 0h24v24H0V0z\" fill=\"none\"/>\n",
              "    <path d=\"M18.56 5.44l.94 2.06.94-2.06 2.06-.94-2.06-.94-.94-2.06-.94 2.06-2.06.94zm-11 1L8.5 8.5l.94-2.06 2.06-.94-2.06-.94L8.5 2.5l-.94 2.06-2.06.94zm10 10l.94 2.06.94-2.06 2.06-.94-2.06-.94-.94-2.06-.94 2.06-2.06.94z\"/><path d=\"M17.41 7.96l-1.37-1.37c-.4-.4-.92-.59-1.43-.59-.52 0-1.04.2-1.43.59L10.3 9.45l-7.72 7.72c-.78.78-.78 2.05 0 2.83L4 21.41c.39.39.9.59 1.41.59.51 0 1.02-.2 1.41-.59l7.78-7.78 2.81-2.81c.8-.78.8-2.07 0-2.86zM5.41 20L4 18.59l7.72-7.72 1.47 1.35L5.41 20z\"/>\n",
              "  </svg>\n",
              "      </button>\n",
              "      \n",
              "  <style>\n",
              "    .colab-df-container {\n",
              "      display:flex;\n",
              "      flex-wrap:wrap;\n",
              "      gap: 12px;\n",
              "    }\n",
              "\n",
              "    .colab-df-convert {\n",
              "      background-color: #E8F0FE;\n",
              "      border: none;\n",
              "      border-radius: 50%;\n",
              "      cursor: pointer;\n",
              "      display: none;\n",
              "      fill: #1967D2;\n",
              "      height: 32px;\n",
              "      padding: 0 0 0 0;\n",
              "      width: 32px;\n",
              "    }\n",
              "\n",
              "    .colab-df-convert:hover {\n",
              "      background-color: #E2EBFA;\n",
              "      box-shadow: 0px 1px 2px rgba(60, 64, 67, 0.3), 0px 1px 3px 1px rgba(60, 64, 67, 0.15);\n",
              "      fill: #174EA6;\n",
              "    }\n",
              "\n",
              "    [theme=dark] .colab-df-convert {\n",
              "      background-color: #3B4455;\n",
              "      fill: #D2E3FC;\n",
              "    }\n",
              "\n",
              "    [theme=dark] .colab-df-convert:hover {\n",
              "      background-color: #434B5C;\n",
              "      box-shadow: 0px 1px 3px 1px rgba(0, 0, 0, 0.15);\n",
              "      filter: drop-shadow(0px 1px 2px rgba(0, 0, 0, 0.3));\n",
              "      fill: #FFFFFF;\n",
              "    }\n",
              "  </style>\n",
              "\n",
              "      <script>\n",
              "        const buttonEl =\n",
              "          document.querySelector('#df-71165b7d-9e47-464b-81d0-0bdc7461aa77 button.colab-df-convert');\n",
              "        buttonEl.style.display =\n",
              "          google.colab.kernel.accessAllowed ? 'block' : 'none';\n",
              "\n",
              "        async function convertToInteractive(key) {\n",
              "          const element = document.querySelector('#df-71165b7d-9e47-464b-81d0-0bdc7461aa77');\n",
              "          const dataTable =\n",
              "            await google.colab.kernel.invokeFunction('convertToInteractive',\n",
              "                                                     [key], {});\n",
              "          if (!dataTable) return;\n",
              "\n",
              "          const docLinkHtml = 'Like what you see? Visit the ' +\n",
              "            '<a target=\"_blank\" href=https://colab.research.google.com/notebooks/data_table.ipynb>data table notebook</a>'\n",
              "            + ' to learn more about interactive tables.';\n",
              "          element.innerHTML = '';\n",
              "          dataTable['output_type'] = 'display_data';\n",
              "          await google.colab.output.renderOutput(dataTable, element);\n",
              "          const docLink = document.createElement('div');\n",
              "          docLink.innerHTML = docLinkHtml;\n",
              "          element.appendChild(docLink);\n",
              "        }\n",
              "      </script>\n",
              "    </div>\n",
              "  </div>\n",
              "  "
            ]
          },
          "metadata": {},
          "execution_count": 122
        }
      ]
    },
    {
      "cell_type": "code",
      "source": [
        "# jumlah kasus kematian tertinggi yang pernah terkonfirmasi, menggunakan bar plot untuk membandingkan setiap provincenya\n",
        "\n",
        "max_deaths_2020_US[max_deaths_2020_US['deaths'] > 673.000000].plot(kind=\"bar\", figsize=(10, 5))"
      ],
      "metadata": {
        "colab": {
          "base_uri": "https://localhost:8080/",
          "height": 441
        },
        "id": "Sjm2Zkbu3IbL",
        "outputId": "13fa0786-2de9-401f-b625-e83290942ce9"
      },
      "execution_count": 129,
      "outputs": [
        {
          "output_type": "execute_result",
          "data": {
            "text/plain": [
              "<matplotlib.axes._subplots.AxesSubplot at 0x7faa5bdd0c40>"
            ]
          },
          "metadata": {},
          "execution_count": 129
        },
        {
          "output_type": "display_data",
          "data": {
            "text/plain": [
              "<Figure size 720x360 with 1 Axes>"
            ],
            "image/png": "[encoded data removed]"
          },
          "metadata": {
            "needs_background": "light"
          }
        }
      ]
    },
    {
      "cell_type": "code",
      "source": [
        "# menggunakan line plot untuk melihat naik turunnya kasus yang terkonfirmasi setiap bulannya\n",
        "\n",
        "max_confirmed_month2020.plot(figsize=(10, 5))"
      ],
      "metadata": {
        "colab": {
          "base_uri": "https://localhost:8080/",
          "height": 352
        },
        "id": "3TtA2L0j4Ugc",
        "outputId": "b57c96fa-964d-4fa5-8ce5-2f66d47b0f44"
      },
      "execution_count": 132,
      "outputs": [
        {
          "output_type": "execute_result",
          "data": {
            "text/plain": [
              "<matplotlib.axes._subplots.AxesSubplot at 0x7faa5bc1dd00>"
            ]
          },
          "metadata": {},
          "execution_count": 132
        },
        {
          "output_type": "display_data",
          "data": {
            "text/plain": [
              "<Figure size 720x360 with 1 Axes>"
            ],
            "image/png": "[encoded data removed]"
          },
          "metadata": {
            "needs_background": "light"
          }
        }
      ]
    },
    {
      "cell_type": "code",
      "source": [
        "max_deaths_month2020.plot(figsize=(10, 5))"
      ],
      "metadata": {
        "colab": {
          "base_uri": "https://localhost:8080/",
          "height": 351
        },
        "id": "heo4yLGx4cD6",
        "outputId": "b6ca1a29-cb0b-416f-bc6f-b3bab5dc6640"
      },
      "execution_count": 135,
      "outputs": [
        {
          "output_type": "execute_result",
          "data": {
            "text/plain": [
              "<matplotlib.axes._subplots.AxesSubplot at 0x7faa5bbfc0a0>"
            ]
          },
          "metadata": {},
          "execution_count": 135
        },
        {
          "output_type": "display_data",
          "data": {
            "text/plain": [
              "<Figure size 720x360 with 1 Axes>"
            ],
            "image/png": "[encoded data removed]"
          },
          "metadata": {
            "needs_background": "light"
          }
        }
      ]
    },
    {
      "cell_type": "markdown",
      "source": [
        "## Pengambilan Kesimpulan"
      ],
      "metadata": {
        "id": "Xmw6W1NtgHj8"
      }
    },
    {
      "cell_type": "markdown",
      "source": [
        "Berdasarkan ekplorasi data yang dilakukan pada negara US dan pada tahun 2020 bahwa:\n",
        "\n",
        "1. Kasus covid tertinggi yang terkonfirmasi pada US terjadi di California dengan lebih dari 700000 (tujuh ratus ribu).\n",
        "\n",
        "2. Pada tahun 2020, khususnya Unined States mengalami lonjakan terkonfirmasinya covid pada bulan 12 yaitu Desember. Hal ini dikarenakan pada saat itu kasus yang pertama kali terkonfirmasi terjadi pada bulan Desember tahun 2019 di China hingga akhirnya merebak ke negara United State ([sumber](https://www.djkn.kemenkeu.go.id/kpknl-sidoarjo/baca-artikel/13048/KPKNL-Sidoarjo-Semangat-Melayani-Di-Tengah-Pandemi.html#:~:text=Wabah%20COVID%2D19%20pertama%20diidentifikasi,seluruh%20dunia%20tak%20terkecuali%20Indonesia.)).\n",
        "\n",
        "3. Kasus kematian tertinggi yang terkonfirmasi pada US terjadi di New York dengan lebih dari 200000 (dua ratus ribu) jiwa.\n",
        "\n",
        "4. Kasus kematian tertinggi yang pernah terkonfirmasi terjadi pada bulan 8 yaitu bulan Agustus\n",
        "\n"
      ],
      "metadata": {
        "id": "BAYoevn9E6wc"
      }
    }
  ]
}